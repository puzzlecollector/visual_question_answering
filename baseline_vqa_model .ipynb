{
 "cells": [
  {
   "cell_type": "code",
   "execution_count": 91,
   "metadata": {},
   "outputs": [],
   "source": [
    "from pycocotools.coco import COCO \n",
    "from PIL import Image \n",
    "import numpy as np \n",
    "import skimage.io as io \n",
    "import matplotlib.pyplot as plt \n",
    "import pylab \n",
    "import json \n",
    "import os \n",
    "import random \n",
    "import math \n",
    "import seaborn as sns \n",
    "from tqdm import tqdm \n",
    "import tensorflow as tf \n",
    "from tensorflow.keras.models import *\n",
    "from tensorflow.keras.layers import * \n",
    "from tensorflow.keras.callbacks import *\n",
    "from tensorflow.keras.preprocessing.text import * \n",
    "from tensorflow.keras.preprocessing.sequence import * \n",
    "from sklearn.model_selection import KFold, StratifiedKFold, train_test_split\n",
    "from sklearn.preprocessing import LabelBinarizer\n",
    "import cv2 # apt-get install libgl1-mesa-glx\n",
    "\n",
    "np.random.seed(2021) # for reproduceability "
   ]
  },
  {
   "cell_type": "markdown",
   "metadata": {},
   "source": [
    "# Data Preprocessing \n",
    "\n",
    "Preprocess the given data so that we have matching (Image, Question, Answer) triplets\n",
    "Because the dataset is large, we will train using the VQA v2.0 validation dataset, and we will only use 50% of the data.  "
   ]
  },
  {
   "cell_type": "code",
   "execution_count": 2,
   "metadata": {},
   "outputs": [],
   "source": [
    "with open('v2_mscoco_val2014_annotations.json') as json_file: \n",
    "    ans = json.load(json_file) \n",
    "    \n",
    "with open('v2_OpenEnded_mscoco_val2014_questions.json') as json_file: \n",
    "    questions = json.load(json_file) "
   ]
  },
  {
   "cell_type": "code",
   "execution_count": 3,
   "metadata": {},
   "outputs": [
    {
     "data": {
      "text/plain": [
       "40504"
      ]
     },
     "execution_count": 3,
     "metadata": {},
     "output_type": "execute_result"
    }
   ],
   "source": [
    "image_dir = os.listdir('val2014/val2014/') \n",
    "len(image_dir) # total number of images "
   ]
  },
  {
   "cell_type": "code",
   "execution_count": 4,
   "metadata": {},
   "outputs": [],
   "source": [
    "# let's use half of the given images  \n",
    "index = np.random.choice(len(image_dir), int(0.5 * len(image_dir)), replace = False) "
   ]
  },
  {
   "cell_type": "code",
   "execution_count": 5,
   "metadata": {},
   "outputs": [
    {
     "data": {
      "text/plain": [
       "(20252,)"
      ]
     },
     "execution_count": 5,
     "metadata": {},
     "output_type": "execute_result"
    }
   ],
   "source": [
    "image_dir = np.asarray(image_dir) \n",
    "image_dir = image_dir[index] \n",
    "image_dir.shape"
   ]
  },
  {
   "cell_type": "code",
   "execution_count": 6,
   "metadata": {},
   "outputs": [
    {
     "data": {
      "text/plain": [
       "array([447038, 262360, 251717, ...,  11122, 290896, 271576])"
      ]
     },
     "execution_count": 6,
     "metadata": {},
     "output_type": "execute_result"
    }
   ],
   "source": [
    "# get ids for each of the selected images \n",
    "image_ids = [] \n",
    "for i in range(len(image_dir)): \n",
    "    int_id = int(image_dir[i][14:25]) \n",
    "    image_ids.append(int_id) \n",
    "    \n",
    "image_ids = np.asarray(image_ids) \n",
    "image_ids"
   ]
  },
  {
   "cell_type": "code",
   "execution_count": 9,
   "metadata": {
    "scrolled": true
   },
   "outputs": [
    {
     "name": "stderr",
     "output_type": "stream",
     "text": [
      "100%|██████████| 214354/214354 [00:03<00:00, 61073.71it/s]\n"
     ]
    }
   ],
   "source": [
    "arr1 = [] # contains (image_id, question_id, question)\n",
    "question_ids = [] \n",
    "for i in tqdm(range(len(questions['questions'])), position = 0, leave = True): \n",
    "    if questions['questions'][i]['image_id'] in image_ids: \n",
    "        arr1.append((questions['questions'][i]['image_id'],\n",
    "                     questions['questions'][i]['question_id'], \n",
    "                     questions['questions'][i]['question']))      \n",
    "        question_ids.append(questions['questions'][i]['question_id'])"
   ]
  },
  {
   "cell_type": "code",
   "execution_count": 10,
   "metadata": {},
   "outputs": [
    {
     "name": "stderr",
     "output_type": "stream",
     "text": [
      "100%|██████████| 214354/214354 [03:01<00:00, 1182.03it/s]\n"
     ]
    }
   ],
   "source": [
    "arr2 = [] # contains (question_id, answer) \n",
    "\n",
    "for i in tqdm(range(len(ans['annotations'])), position = 0, leave = True): \n",
    "    if ans['annotations'][i]['question_id'] in question_ids:   \n",
    "        arr2.append((ans['annotations'][i]['question_id'], \n",
    "                     ans['annotations'][i]['multiple_choice_answer']))\n"
   ]
  },
  {
   "cell_type": "code",
   "execution_count": 11,
   "metadata": {},
   "outputs": [
    {
     "name": "stdout",
     "output_type": "stream",
     "text": [
      "106733 106733\n"
     ]
    }
   ],
   "source": [
    "print(len(arr1), len(arr2)) "
   ]
  },
  {
   "cell_type": "code",
   "execution_count": 14,
   "metadata": {},
   "outputs": [
    {
     "name": "stderr",
     "output_type": "stream",
     "text": [
      "100%|██████████| 106733/106733 [29:24<00:00, 60.50it/s]\n"
     ]
    }
   ],
   "source": [
    "arr = [] # contains (image_id, question, answer) \n",
    "\n",
    "# merge information from arr1 and arr2 \n",
    "for i in tqdm(range(len(arr2)), position = 0, leave = True): \n",
    "    for j in range(len(arr1)): \n",
    "        if arr2[i][0] == arr1[j][1]: # if the question ids match \n",
    "            arr.append((arr1[j][0], arr1[j][2], arr2[i][1])) # append (image_id, question, answer)\n",
    "            "
   ]
  },
  {
   "cell_type": "code",
   "execution_count": 15,
   "metadata": {},
   "outputs": [
    {
     "name": "stdout",
     "output_type": "stream",
     "text": [
      "Total count for train dataset = 106733\n"
     ]
    }
   ],
   "source": [
    "print(\"Total count for train dataset = {}\".format(len(arr)))"
   ]
  },
  {
   "cell_type": "code",
   "execution_count": 43,
   "metadata": {},
   "outputs": [
    {
     "name": "stderr",
     "output_type": "stream",
     "text": [
      "100%|██████████| 106733/106733 [15:14<00:00, 116.72it/s]\n"
     ]
    }
   ],
   "source": [
    "# get actual images for training from the triplet data \n",
    "X_images = [] \n",
    "X_questions = [] \n",
    "Y_answers = [] \n",
    "\n",
    "for i in tqdm(range(len(arr))): \n",
    "    image_id = arr[i][0] \n",
    "    question = arr[i][1] \n",
    "    answer = arr[i][2] \n",
    "    # obtain actual image from the image id \n",
    "    image_id_str = str(image_id) \n",
    "    while len(image_id_str) < 12: # prepend zero to make the length of the id 12 \n",
    "        image_id_str = '0' + image_id_str  \n",
    "    dirname = 'val2014/val2014/COCO_val2014_' + image_id_str + '.jpg' \n",
    "    image = Image.open(dirname).convert('RGB') \n",
    "    image = image.resize((224,224)) \n",
    "    image = np.asarray(image) \n",
    "    assert image.ndim == 3 \n",
    "    X_images.append(image) \n",
    "    X_questions.append(question) \n",
    "    Y_answers.append(answer)\n",
    "    \n"
   ]
  },
  {
   "cell_type": "code",
   "execution_count": 44,
   "metadata": {},
   "outputs": [
    {
     "name": "stdout",
     "output_type": "stream",
     "text": [
      "convert X_images to numpy array\n",
      "convert X_questions to numpy array\n",
      "convert Y_answers to numpy array\n",
      "saving processed dataset...\n"
     ]
    }
   ],
   "source": [
    "print(\"convert X_images to numpy array\") \n",
    "X_images = np.asarray(X_images) \n",
    "print(\"convert X_questions to numpy array\") \n",
    "X_questions = np.asarray(X_questions) \n",
    "print(\"convert Y_answers to numpy array\") \n",
    "Y_answers = np.asarray(Y_answers) \n",
    "\n",
    "print(\"saving processed dataset...\") \n",
    "np.save(\"small_X_images.npy\", X_images) \n",
    "np.save(\"small_X_questions.npy\", X_questions) \n",
    "np.save(\"small_Y_answers.npy\", Y_answers) "
   ]
  },
  {
   "cell_type": "code",
   "execution_count": 45,
   "metadata": {},
   "outputs": [
    {
     "data": {
      "text/plain": [
       "((106733, 224, 224, 3), (106733,), (106733,))"
      ]
     },
     "execution_count": 45,
     "metadata": {},
     "output_type": "execute_result"
    }
   ],
   "source": [
    "X_images.shape, X_questions.shape, Y_answers.shape"
   ]
  },
  {
   "cell_type": "markdown",
   "metadata": {},
   "source": [
    "# Extracting Image Features\n",
    "\n",
    "We need to convert images into fixed size vectors. VGG-19 is trained on the Imagenet dataset to classify the image into one of the answer classes. Because each image is scaled to 224x224, we will get a 7x7x512 dimensional vector representation for each image. "
   ]
  },
  {
   "cell_type": "code",
   "execution_count": 51,
   "metadata": {},
   "outputs": [
    {
     "name": "stderr",
     "output_type": "stream",
     "text": [
      "100%|██████████| 106733/106733 [15:21<00:00, 115.85it/s]\n"
     ]
    }
   ],
   "source": [
    "# extract image features \n",
    "X_images_extracted = [] \n",
    "\n",
    "def VGG19_Top(): \n",
    "    model = tf.keras.applications.VGG19(include_top=False, weights = 'imagenet', input_shape = (224,224,3)) \n",
    "    input_layer = model.input\n",
    "    hidden_layer = model.layers[-1].output \n",
    "    model = tf.keras.Model(input_layer, hidden_layer) \n",
    "    return model  \n",
    "\n",
    "def generateImageFeatures(images): \n",
    "    model = VGG19_Top() \n",
    "    for i in tqdm(range(images.shape[0])):  \n",
    "        features = model(images[i].reshape((1,224,224,3))) \n",
    "        X_images_extracted.append(features.numpy().reshape((7,7,512)))\n",
    "        \n",
    "        \n",
    "generateImageFeatures(X_images)"
   ]
  },
  {
   "cell_type": "code",
   "execution_count": 52,
   "metadata": {},
   "outputs": [
    {
     "data": {
      "text/plain": [
       "(106733, 7, 7, 512)"
      ]
     },
     "execution_count": 52,
     "metadata": {},
     "output_type": "execute_result"
    }
   ],
   "source": [
    "X_images_extracted = np.asarray(X_images_extracted) \n",
    "\n",
    "X_images_extracted.shape "
   ]
  },
  {
   "cell_type": "markdown",
   "metadata": {},
   "source": [
    "# Creating Question Vectors"
   ]
  },
  {
   "cell_type": "code",
   "execution_count": 55,
   "metadata": {},
   "outputs": [],
   "source": [
    "tokenizer_questions = tf.keras.preprocessing.text.Tokenizer(oov_token='<unk>', filters = '!\"#$%&()*+.,-/:;=?@[\\]^_`{|}~')\n",
    "\n",
    "tokenizer_questions.fit_on_texts(X_questions)\n",
    "\n",
    "train_question_seqs = tokenizer_questions.texts_to_sequences(X_questions) \n",
    "\n",
    "question_vector = tf.keras.preprocessing.sequence.pad_sequences(train_question_seqs, padding = 'post')"
   ]
  },
  {
   "cell_type": "code",
   "execution_count": 57,
   "metadata": {},
   "outputs": [
    {
     "data": {
      "text/plain": [
       "(106733, 23)"
      ]
     },
     "execution_count": 57,
     "metadata": {},
     "output_type": "execute_result"
    }
   ],
   "source": [
    "question_vector.shape"
   ]
  },
  {
   "cell_type": "markdown",
   "metadata": {},
   "source": [
    "# Creating Answer Vectors"
   ]
  },
  {
   "cell_type": "code",
   "execution_count": 62,
   "metadata": {},
   "outputs": [
    {
     "name": "stdout",
     "output_type": "stream",
     "text": [
      "there are 8926 possible answers in our dataset\n"
     ]
    }
   ],
   "source": [
    "target_size = len(np.unique(Y_answers))\n",
    "print(\"there are {} possible answers in our dataset\".format(target_size))"
   ]
  },
  {
   "cell_type": "code",
   "execution_count": 92,
   "metadata": {},
   "outputs": [],
   "source": [
    "label_encoder = LabelBinarizer() \n",
    "answer_vector = label_encoder.fit_transform(Y_answers)"
   ]
  },
  {
   "cell_type": "code",
   "execution_count": 95,
   "metadata": {},
   "outputs": [
    {
     "data": {
      "text/plain": [
       "(106733, 8926)"
      ]
     },
     "execution_count": 95,
     "metadata": {},
     "output_type": "execute_result"
    }
   ],
   "source": [
    "answer_vector.shape"
   ]
  },
  {
   "cell_type": "markdown",
   "metadata": {},
   "source": [
    "# Save preprocessed data"
   ]
  },
  {
   "cell_type": "code",
   "execution_count": 88,
   "metadata": {},
   "outputs": [],
   "source": [
    "np.save(\"image_features_small.npy\", X_images_extracted)\n"
   ]
  },
  {
   "cell_type": "markdown",
   "metadata": {},
   "source": [
    "# Train validation split"
   ]
  },
  {
   "cell_type": "code",
   "execution_count": 98,
   "metadata": {},
   "outputs": [
    {
     "name": "stdout",
     "output_type": "stream",
     "text": [
      "splitting images and questions...\n",
      "splitting answers and questions...\n"
     ]
    }
   ],
   "source": [
    "print(\"splitting images and questions...\")\n",
    "train_images, val_images, train_questions, val_questions = train_test_split(X_images_extracted, \n",
    "                                                                            question_vector, \n",
    "                                                                            test_size = 0.1, \n",
    "                                                                            random_state = 2021)\n",
    "print(\"splitting answers and questions...\")\n",
    "train_answers, val_answers, _, _ = train_test_split(answer_vector,\n",
    "                                                    question_vector,\n",
    "                                                    test_size = 0.1,\n",
    "                                                    random_state = 2021)"
   ]
  },
  {
   "cell_type": "code",
   "execution_count": 99,
   "metadata": {},
   "outputs": [
    {
     "name": "stdout",
     "output_type": "stream",
     "text": [
      "(96059, 7, 7, 512) (96059, 23) (96059, 8926)\n",
      "(10674, 7, 7, 512) (10674, 23) (10674, 8926)\n"
     ]
    }
   ],
   "source": [
    "print(train_images.shape, train_questions.shape, train_answers.shape) \n",
    "\n",
    "print(val_images.shape, val_questions.shape, val_answers.shape)"
   ]
  },
  {
   "cell_type": "markdown",
   "metadata": {},
   "source": [
    "# Define and train model"
   ]
  },
  {
   "cell_type": "code",
   "execution_count": 100,
   "metadata": {},
   "outputs": [],
   "source": [
    "def build_model(): \n",
    "    image_input = Input((7,7,512)) \n",
    "    question_input = Input((question_vector.shape[1],))\n",
    "    \n",
    "    # image pathway \n",
    "    image_conv_layer1 = Conv2D(filters = 4096, \n",
    "                               kernel_size = 7, \n",
    "                               strides = 1, \n",
    "                               padding = 'valid', \n",
    "                               activation = 'relu')(image_input)\n",
    "    image_flatten = Flatten()(image_conv_layer1)\n",
    "    image_dense1 = Dense(4096, activation = 'relu')(image_flatten) \n",
    "    image_dense2 = Dense(1024, activation = 'relu')(image_dense1) \n",
    "    \n",
    "    # question pathway \n",
    "    question_embedding = Embedding(input_dim = len(tokenizer_questions.word_index)+1, output_dim = 300)(question_input)\n",
    "    question_lstm = LSTM(1024, \n",
    "                         kernel_initializer = 'glorot_uniform', \n",
    "                         recurrent_initializer = 'orthogonal', \n",
    "                         bias_initializer = tf.keras.initializers.zeros())(question_embedding)\n",
    "    question_flatten = Flatten()(question_lstm) \n",
    "    \n",
    "    # pointwise multiplication \n",
    "    image_question = Multiply()([image_dense2, question_flatten]) \n",
    "    \n",
    "    image_question_dense1 = Dense(1000, activation = 'relu')(image_question)\n",
    "    image_question_dense2 = Dense(1000, activation = 'relu')(image_question_dense1) \n",
    "    \n",
    "    outputs = Dense(target_size, activation = 'softmax')(image_question_dense2) \n",
    "    model = Model(inputs = [image_input, question_input], outputs = outputs)\n",
    "    \n",
    "    model.compile(optimizer = 'adam', loss = 'categorical_crossentropy', metrics = ['accuracy'])\n",
    "    return model"
   ]
  },
  {
   "cell_type": "code",
   "execution_count": 101,
   "metadata": {},
   "outputs": [
    {
     "name": "stdout",
     "output_type": "stream",
     "text": [
      "Model: \"model_8\"\n",
      "__________________________________________________________________________________________________\n",
      "Layer (type)                    Output Shape         Param #     Connected to                     \n",
      "==================================================================================================\n",
      "input_17 (InputLayer)           [(None, 7, 7, 512)]  0                                            \n",
      "__________________________________________________________________________________________________\n",
      "conv2d_3 (Conv2D)               (None, 1, 1, 4096)   102764544   input_17[0][0]                   \n",
      "__________________________________________________________________________________________________\n",
      "input_18 (InputLayer)           [(None, 23)]         0                                            \n",
      "__________________________________________________________________________________________________\n",
      "flatten_6 (Flatten)             (None, 4096)         0           conv2d_3[0][0]                   \n",
      "__________________________________________________________________________________________________\n",
      "embedding_3 (Embedding)         (None, 23, 300)      2687400     input_18[0][0]                   \n",
      "__________________________________________________________________________________________________\n",
      "dense_12 (Dense)                (None, 4096)         16781312    flatten_6[0][0]                  \n",
      "__________________________________________________________________________________________________\n",
      "lstm_3 (LSTM)                   (None, 1024)         5427200     embedding_3[0][0]                \n",
      "__________________________________________________________________________________________________\n",
      "dense_13 (Dense)                (None, 1024)         4195328     dense_12[0][0]                   \n",
      "__________________________________________________________________________________________________\n",
      "flatten_7 (Flatten)             (None, 1024)         0           lstm_3[0][0]                     \n",
      "__________________________________________________________________________________________________\n",
      "multiply_3 (Multiply)           (None, 1024)         0           dense_13[0][0]                   \n",
      "                                                                 flatten_7[0][0]                  \n",
      "__________________________________________________________________________________________________\n",
      "dense_14 (Dense)                (None, 1000)         1025000     multiply_3[0][0]                 \n",
      "__________________________________________________________________________________________________\n",
      "dense_15 (Dense)                (None, 1000)         1001000     dense_14[0][0]                   \n",
      "__________________________________________________________________________________________________\n",
      "dense_16 (Dense)                (None, 8926)         8934926     dense_15[0][0]                   \n",
      "==================================================================================================\n",
      "Total params: 142,816,710\n",
      "Trainable params: 142,816,710\n",
      "Non-trainable params: 0\n",
      "__________________________________________________________________________________________________\n"
     ]
    }
   ],
   "source": [
    "model = build_model()\n",
    "model.summary()"
   ]
  },
  {
   "cell_type": "markdown",
   "metadata": {},
   "source": [
    "# Train Model"
   ]
  },
  {
   "cell_type": "code",
   "execution_count": 102,
   "metadata": {},
   "outputs": [
    {
     "name": "stdout",
     "output_type": "stream",
     "text": [
      "Epoch 1/50\n",
      "3002/3002 [==============================] - 235s 75ms/step - loss: 4.8627 - accuracy: 0.2093 - val_loss: 4.0121 - val_accuracy: 0.2369\n",
      "\n",
      "Epoch 00001: val_loss improved from inf to 4.01206, saving model to baseline_vqa_epoch_001_val_4.012_val_accuracy_0.237.h5\n",
      "Epoch 2/50\n",
      "3002/3002 [==============================] - 187s 62ms/step - loss: 3.8636 - accuracy: 0.2424 - val_loss: 3.8944 - val_accuracy: 0.2520\n",
      "\n",
      "Epoch 00002: val_loss improved from 4.01206 to 3.89435, saving model to baseline_vqa_epoch_002_val_3.894_val_accuracy_0.252.h5\n",
      "Epoch 3/50\n",
      "3002/3002 [==============================] - 220s 73ms/step - loss: 3.6161 - accuracy: 0.2530 - val_loss: 3.8050 - val_accuracy: 0.2529\n",
      "\n",
      "Epoch 00003: val_loss improved from 3.89435 to 3.80502, saving model to baseline_vqa_epoch_003_val_3.805_val_accuracy_0.253.h5\n",
      "Epoch 4/50\n",
      "3002/3002 [==============================] - 183s 61ms/step - loss: 3.3641 - accuracy: 0.2681 - val_loss: 3.7742 - val_accuracy: 0.2694\n",
      "\n",
      "Epoch 00004: val_loss improved from 3.80502 to 3.77421, saving model to baseline_vqa_epoch_004_val_3.774_val_accuracy_0.269.h5\n",
      "Epoch 5/50\n",
      "3002/3002 [==============================] - 217s 72ms/step - loss: 3.1919 - accuracy: 0.2888 - val_loss: 3.7249 - val_accuracy: 0.2765\n",
      "\n",
      "Epoch 00005: val_loss improved from 3.77421 to 3.72486, saving model to baseline_vqa_epoch_005_val_3.725_val_accuracy_0.276.h5\n",
      "Epoch 6/50\n",
      "3002/3002 [==============================] - 187s 62ms/step - loss: 3.0030 - accuracy: 0.3119 - val_loss: 3.7639 - val_accuracy: 0.2833\n",
      "\n",
      "Epoch 00006: val_loss did not improve from 3.72486\n",
      "Epoch 7/50\n",
      "3002/3002 [==============================] - 224s 75ms/step - loss: 2.8318 - accuracy: 0.3417 - val_loss: 3.7338 - val_accuracy: 0.2875\n",
      "\n",
      "Epoch 00007: ReduceLROnPlateau reducing learning rate to 0.000800000037997961.\n",
      "\n",
      "Epoch 00007: val_loss did not improve from 3.72486\n",
      "Epoch 8/50\n",
      "3002/3002 [==============================] - 189s 63ms/step - loss: 3.8140 - accuracy: 0.3745 - val_loss: 3.8921 - val_accuracy: 0.2956\n",
      "\n",
      "Epoch 00008: val_loss did not improve from 3.72486\n",
      "Epoch 9/50\n",
      "3002/3002 [==============================] - 223s 74ms/step - loss: 2.4801 - accuracy: 0.4097 - val_loss: 4.0143 - val_accuracy: 0.2984\n",
      "\n",
      "Epoch 00009: ReduceLROnPlateau reducing learning rate to 0.0006400000303983689.\n",
      "\n",
      "Epoch 00009: val_loss did not improve from 3.72486\n",
      "Epoch 10/50\n",
      "3002/3002 [==============================] - 219s 73ms/step - loss: 2.3222 - accuracy: 0.4429 - val_loss: 4.1238 - val_accuracy: 0.2983\n",
      "\n",
      "Epoch 00010: val_loss did not improve from 3.72486\n",
      "Epoch 11/50\n",
      "3002/3002 [==============================] - 182s 61ms/step - loss: 2.1969 - accuracy: 0.4756 - val_loss: 4.4923 - val_accuracy: 0.3017\n",
      "\n",
      "Epoch 00011: ReduceLROnPlateau reducing learning rate to 0.0005120000336319208.\n",
      "\n",
      "Epoch 00011: val_loss did not improve from 3.72486\n",
      "Epoch 12/50\n",
      "3002/3002 [==============================] - 218s 73ms/step - loss: 2.0687 - accuracy: 0.4959 - val_loss: 4.8636 - val_accuracy: 0.3042\n",
      "\n",
      "Epoch 00012: val_loss did not improve from 3.72486\n",
      "Epoch 13/50\n",
      "3002/3002 [==============================] - 183s 61ms/step - loss: 1.9604 - accuracy: 0.5160 - val_loss: 4.8078 - val_accuracy: 0.3024\n",
      "\n",
      "Epoch 00013: ReduceLROnPlateau reducing learning rate to 0.00040960004553198815.\n",
      "\n",
      "Epoch 00013: val_loss did not improve from 3.72486\n",
      "Epoch 14/50\n",
      "3002/3002 [==============================] - 218s 73ms/step - loss: 1.8423 - accuracy: 0.5395 - val_loss: 5.1884 - val_accuracy: 0.3009\n",
      "\n",
      "Epoch 00014: val_loss did not improve from 3.72486\n",
      "Epoch 15/50\n",
      "3002/3002 [==============================] - 180s 60ms/step - loss: 1.7165 - accuracy: 0.5643 - val_loss: 5.5515 - val_accuracy: 0.3007\n",
      "\n",
      "Epoch 00015: ReduceLROnPlateau reducing learning rate to 0.00032768002711236477.\n",
      "\n",
      "Epoch 00015: val_loss did not improve from 3.72486\n"
     ]
    }
   ],
   "source": [
    "model_path = 'baseline_vqa_epoch_{epoch:03d}_val_{val_loss:.3f}_val_accuracy_{val_accuracy:.3f}.h5' \n",
    "\n",
    "learning_rate_reduction = ReduceLROnPlateau(monitor = 'val_loss', patience = 2, verbose = 1, factor = 0.8) \n",
    "\n",
    "checkpoint = ModelCheckpoint(filepath = model_path, monitor = 'val_loss', verbose = 1, save_best_only = True) \n",
    "\n",
    "early_stopping = EarlyStopping(monitor = 'val_loss', patience = 10)\n",
    "\n",
    "history = model.fit([train_images, train_questions], \n",
    "                    train_answers, \n",
    "                    batch_size = 32, \n",
    "                    epochs = 50, \n",
    "                    validation_data = ([val_images, val_questions], val_answers), \n",
    "                    callbacks = [learning_rate_reduction, checkpoint, early_stopping]) "
   ]
  },
  {
   "cell_type": "markdown",
   "metadata": {},
   "source": [
    "# Plot loss and accuracy graph "
   ]
  },
  {
   "cell_type": "code",
   "execution_count": 105,
   "metadata": {},
   "outputs": [
    {
     "data": {
      "image/png": "[encoded data removed]",
      "text/plain": [
       "<Figure size 432x288 with 1 Axes>"
      ]
     },
     "metadata": {
      "needs_background": "light"
     },
     "output_type": "display_data"
    }
   ],
   "source": [
    "plt.plot(history.history['accuracy']) \n",
    "plt.plot(history.history['val_accuracy']) \n",
    "plt.title('model accuracy') \n",
    "plt.ylabel('accuracy') \n",
    "plt.xlabel('epoch')\n",
    "plt.legend(['train','val'], loc='upper left') \n",
    "plt.show() "
   ]
  },
  {
   "cell_type": "code",
   "execution_count": 106,
   "metadata": {},
   "outputs": [
    {
     "data": {
      "image/png": "[encoded data removed]",
      "text/plain": [
       "<Figure size 432x288 with 1 Axes>"
      ]
     },
     "metadata": {
      "needs_background": "light"
     },
     "output_type": "display_data"
    }
   ],
   "source": [
    "plt.plot(history.history['loss']) \n",
    "plt.plot(history.history['val_loss']) \n",
    "plt.title('model loss') \n",
    "plt.ylabel('loss') \n",
    "plt.xlabel('epoch')\n",
    "plt.legend(['train','val'], loc='upper left') \n",
    "plt.show() "
   ]
  },
  {
   "cell_type": "code",
   "execution_count": null,
   "metadata": {},
   "outputs": [],
   "source": []
  }
 ],
 "metadata": {
  "kernelspec": {
   "display_name": "Python 3",
   "language": "python",
   "name": "python3"
  },
  "language_info": {
   "codemirror_mode": {
    "name": "ipython",
    "version": 3
   },
   "file_extension": ".py",
   "mimetype": "text/x-python",
   "name": "python",
   "nbconvert_exporter": "python",
   "pygments_lexer": "ipython3",
   "version": "3.6.9"
  }
 },
 "nbformat": 4,
 "nbformat_minor": 2
}

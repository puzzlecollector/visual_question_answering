{
 "cells": [
  {
   "cell_type": "code",
   "execution_count": 1,
   "metadata": {},
   "outputs": [],
   "source": [
    "from pycocotools.coco import COCO \n",
    "from PIL import Image \n",
    "import numpy as np \n",
    "import skimage.io as io \n",
    "import matplotlib.pyplot as plt \n",
    "import pylab \n",
    "import json \n",
    "import os \n",
    "import random \n",
    "import math \n",
    "import seaborn as sns \n",
    "from tqdm import tqdm \n",
    "import tensorflow as tf \n",
    "from tensorflow.keras.models import *\n",
    "from tensorflow.keras.layers import * \n",
    "from tensorflow.keras.callbacks import *\n",
    "from tensorflow.keras.preprocessing.text import * \n",
    "from tensorflow.keras.preprocessing.sequence import * \n",
    "from sklearn.model_selection import KFold, StratifiedKFold, train_test_split\n",
    "from sklearn.preprocessing import LabelBinarizer\n",
    "import cv2 # apt-get install libgl1-mesa-glx\n",
    "\n",
    "np.random.seed(2021) # for reproducibility "
   ]
  },
  {
   "cell_type": "markdown",
   "metadata": {},
   "source": [
    "# Data preprocessing"
   ]
  },
  {
   "cell_type": "code",
   "execution_count": 2,
   "metadata": {},
   "outputs": [],
   "source": [
    "with open('v2_mscoco_val2014_annotations.json') as json_file:  \n",
    "    ans = json.load(json_file) \n",
    "    \n",
    "with open('v2_OpenEnded_mscoco_val2014_questions.json') as json_file: \n",
    "    questions = json.load(json_file)"
   ]
  },
  {
   "cell_type": "code",
   "execution_count": 3,
   "metadata": {},
   "outputs": [
    {
     "data": {
      "text/plain": [
       "40504"
      ]
     },
     "execution_count": 3,
     "metadata": {},
     "output_type": "execute_result"
    }
   ],
   "source": [
    "image_dir = os.listdir('val2014/val2014/') \n",
    "len(image_dir)"
   ]
  },
  {
   "cell_type": "code",
   "execution_count": 4,
   "metadata": {},
   "outputs": [],
   "source": [
    "index = np.random.choice(len(image_dir), int(0.5 * len(image_dir)), replace = False) "
   ]
  },
  {
   "cell_type": "code",
   "execution_count": 5,
   "metadata": {},
   "outputs": [
    {
     "data": {
      "text/plain": [
       "(20252,)"
      ]
     },
     "execution_count": 5,
     "metadata": {},
     "output_type": "execute_result"
    }
   ],
   "source": [
    "image_dir = np.asarray(image_dir) \n",
    "image_dir = image_dir[index] \n",
    "image_dir.shape"
   ]
  },
  {
   "cell_type": "code",
   "execution_count": 6,
   "metadata": {},
   "outputs": [
    {
     "data": {
      "text/plain": [
       "array([447038, 262360, 251717, ...,  11122, 290896, 271576])"
      ]
     },
     "execution_count": 6,
     "metadata": {},
     "output_type": "execute_result"
    }
   ],
   "source": [
    "image_ids = []\n",
    "for i in range(len(image_dir)): \n",
    "    int_id = int(image_dir[i][14:25]) \n",
    "    image_ids.append(int_id) \n",
    "    \n",
    "image_ids = np.asarray(image_ids) \n",
    "image_ids"
   ]
  },
  {
   "cell_type": "code",
   "execution_count": 7,
   "metadata": {},
   "outputs": [
    {
     "name": "stderr",
     "output_type": "stream",
     "text": [
      "100%|██████████| 214354/214354 [00:03<00:00, 63931.17it/s]\n"
     ]
    }
   ],
   "source": [
    "arr1 = [] # contains (image_id, question_id, question)\n",
    "question_ids = [] \n",
    "for i in tqdm(range(len(questions['questions'])), position = 0, leave = True): \n",
    "    if questions['questions'][i]['image_id'] in image_ids: \n",
    "        arr1.append((questions['questions'][i]['image_id'],\n",
    "                     questions['questions'][i]['question_id'], \n",
    "                     questions['questions'][i]['question']))      \n",
    "        question_ids.append(questions['questions'][i]['question_id'])\n"
   ]
  },
  {
   "cell_type": "code",
   "execution_count": 8,
   "metadata": {},
   "outputs": [
    {
     "name": "stderr",
     "output_type": "stream",
     "text": [
      "100%|██████████| 214354/214354 [02:54<00:00, 1230.91it/s]\n"
     ]
    }
   ],
   "source": [
    "arr2 = [] # contains (question_id, answer) \n",
    "\n",
    "for i in tqdm(range(len(ans['annotations'])), position = 0, leave = True): \n",
    "    if ans['annotations'][i]['question_id'] in question_ids:   \n",
    "        arr2.append((ans['annotations'][i]['question_id'], \n",
    "                     ans['annotations'][i]['multiple_choice_answer']))\n"
   ]
  },
  {
   "cell_type": "code",
   "execution_count": 9,
   "metadata": {},
   "outputs": [
    {
     "name": "stdout",
     "output_type": "stream",
     "text": [
      "106733 106733\n"
     ]
    }
   ],
   "source": [
    "print(len(arr1), len(arr2)) "
   ]
  },
  {
   "cell_type": "code",
   "execution_count": 10,
   "metadata": {},
   "outputs": [
    {
     "name": "stderr",
     "output_type": "stream",
     "text": [
      "100%|██████████| 106733/106733 [29:45<00:00, 59.79it/s]\n"
     ]
    }
   ],
   "source": [
    "arr = [] # contains (image_id, question, answer) \n",
    "\n",
    "# merge information from arr1 and arr2 \n",
    "for i in tqdm(range(len(arr2)), position = 0, leave = True): \n",
    "    for j in range(len(arr1)): \n",
    "        if arr2[i][0] == arr1[j][1]: # if the question ids match \n",
    "            arr.append((arr1[j][0], arr1[j][2], arr2[i][1])) # append (image_id, question, answer)\n"
   ]
  },
  {
   "cell_type": "code",
   "execution_count": 11,
   "metadata": {},
   "outputs": [
    {
     "name": "stdout",
     "output_type": "stream",
     "text": [
      "106733\n"
     ]
    }
   ],
   "source": [
    "print(len(arr)) "
   ]
  },
  {
   "cell_type": "code",
   "execution_count": 12,
   "metadata": {},
   "outputs": [
    {
     "name": "stderr",
     "output_type": "stream",
     "text": [
      "100%|██████████| 106733/106733 [18:39<00:00, 95.35it/s] \n"
     ]
    }
   ],
   "source": [
    "# get actual images for training from the triplet data \n",
    "X_images = [] \n",
    "X_questions = [] \n",
    "Y_answers = [] \n",
    "\n",
    "for i in tqdm(range(len(arr))): \n",
    "    image_id = arr[i][0] \n",
    "    question = arr[i][1] \n",
    "    answer = arr[i][2] \n",
    "    # obtain actual image from the image id \n",
    "    image_id_str = str(image_id) \n",
    "    while len(image_id_str) < 12: # prepend zero to make the length of the id 12 \n",
    "        image_id_str = '0' + image_id_str  \n",
    "    dirname = 'val2014/val2014/COCO_val2014_' + image_id_str + '.jpg' \n",
    "    image = Image.open(dirname).convert('RGB') \n",
    "    image = image.resize((448,448)) # sacle to 448x448 for this example \n",
    "    image = np.asarray(image) \n",
    "    assert image.ndim == 3 \n",
    "    X_images.append(image) \n",
    "    X_questions.append(question) \n",
    "    Y_answers.append(answer)\n"
   ]
  },
  {
   "cell_type": "code",
   "execution_count": 16,
   "metadata": {},
   "outputs": [],
   "source": [
    "X_images = np.asarray(X_images)\n",
    "X_questions = np.asarray(X_questions) \n",
    "Y_answers = np.asarray(Y_answers)"
   ]
  },
  {
   "cell_type": "code",
   "execution_count": 17,
   "metadata": {},
   "outputs": [
    {
     "data": {
      "text/plain": [
       "((106733, 448, 448, 3), (106733,), (106733,))"
      ]
     },
     "execution_count": 17,
     "metadata": {},
     "output_type": "execute_result"
    }
   ],
   "source": [
    "X_images.shape, X_questions.shape, Y_answers.shape"
   ]
  },
  {
   "cell_type": "markdown",
   "metadata": {},
   "source": [
    "# Extracting Image Features "
   ]
  },
  {
   "cell_type": "code",
   "execution_count": 29,
   "metadata": {},
   "outputs": [
    {
     "name": "stderr",
     "output_type": "stream",
     "text": [
      "100%|██████████| 106733/106733 [21:57<00:00, 81.01it/s]\n"
     ]
    }
   ],
   "source": [
    "X_images_extracted = [] \n",
    "def VGG19_Top(): \n",
    "    model = tf.keras.applications.VGG19(include_top = False, weights = 'imagenet', input_shape = (448,448,3))\n",
    "    input_layer = model.input \n",
    "    hidden_layer = model.layers[-1].output \n",
    "    model = Model(input_layer, hidden_layer) \n",
    "    return model \n",
    "\n",
    "def EfficientNet_Top(): \n",
    "    model = tf.keras.applications.EfficientNetB7(include_top = False, weights = 'imagenet', input_shape = (448,448,3))\n",
    "    input_layer = model.input \n",
    "    hidden_layer = model.layers[-1].output \n",
    "    model = Model(input_layer, hidden_layer) \n",
    "    return model \n",
    "\n",
    "def generateImageFeatures(images): \n",
    "    model = VGG19_Top() \n",
    "    for i in tqdm(range(images.shape[0])): \n",
    "        features = model(images[i].reshape((1,448,448,3))) \n",
    "        X_images_extracted.append(features.numpy().reshape((196,512)))\n",
    "        \n",
    "        \n",
    "generateImageFeatures(X_images) \n",
    "\n",
    "\n"
   ]
  },
  {
   "cell_type": "code",
   "execution_count": 30,
   "metadata": {},
   "outputs": [
    {
     "data": {
      "text/plain": [
       "(106733, 196, 512)"
      ]
     },
     "execution_count": 30,
     "metadata": {},
     "output_type": "execute_result"
    }
   ],
   "source": [
    "X_images_extracted = np.asarray(X_images_extracted) \n",
    "X_images_extracted.shape "
   ]
  },
  {
   "cell_type": "markdown",
   "metadata": {},
   "source": [
    "# Create Question Vector"
   ]
  },
  {
   "cell_type": "code",
   "execution_count": 31,
   "metadata": {},
   "outputs": [],
   "source": [
    "tokenizer_questions = tf.keras.preprocessing.text.Tokenizer(oov_token='<unk>', filters = '!\"#$%&()*+.,-/:;=?@[\\]^_`{|}~')\n",
    "\n",
    "tokenizer_questions.fit_on_texts(X_questions)\n",
    "\n",
    "train_question_seqs = tokenizer_questions.texts_to_sequences(X_questions) \n",
    "\n",
    "question_vector = tf.keras.preprocessing.sequence.pad_sequences(train_question_seqs, padding = 'post')\n"
   ]
  },
  {
   "cell_type": "code",
   "execution_count": 32,
   "metadata": {},
   "outputs": [
    {
     "data": {
      "text/plain": [
       "(106733, 23)"
      ]
     },
     "execution_count": 32,
     "metadata": {},
     "output_type": "execute_result"
    }
   ],
   "source": [
    "question_vector.shape"
   ]
  },
  {
   "cell_type": "markdown",
   "metadata": {},
   "source": [
    "# Create Answer Vector"
   ]
  },
  {
   "cell_type": "code",
   "execution_count": 44,
   "metadata": {},
   "outputs": [
    {
     "data": {
      "text/plain": [
       "8926"
      ]
     },
     "execution_count": 44,
     "metadata": {},
     "output_type": "execute_result"
    }
   ],
   "source": [
    "target_size = len(np.unique(Y_answers))\n",
    "target_size"
   ]
  },
  {
   "cell_type": "code",
   "execution_count": 33,
   "metadata": {},
   "outputs": [
    {
     "data": {
      "text/plain": [
       "(106733, 8926)"
      ]
     },
     "execution_count": 33,
     "metadata": {},
     "output_type": "execute_result"
    }
   ],
   "source": [
    "label_encoder = LabelBinarizer() \n",
    "answer_vector = label_encoder.fit_transform(Y_answers)\n",
    "\n",
    "answer_vector.shape"
   ]
  },
  {
   "cell_type": "code",
   "execution_count": 34,
   "metadata": {},
   "outputs": [
    {
     "name": "stdout",
     "output_type": "stream",
     "text": [
      "splitting images and questions...\n",
      "splitting answers and questions...\n",
      "(96059, 196, 512) (10674, 196, 512)\n"
     ]
    }
   ],
   "source": [
    "print(\"splitting images and questions...\")\n",
    "train_images, val_images, train_questions, val_questions = train_test_split(X_images_extracted, \n",
    "                                                                            question_vector, \n",
    "                                                                            test_size = 0.1, \n",
    "                                                                            random_state = 2021)\n",
    "print(\"splitting answers and questions...\")\n",
    "train_answers, val_answers, _, _ = train_test_split(answer_vector,\n",
    "                                                    question_vector,\n",
    "                                                    test_size = 0.1,\n",
    "                                                    random_state = 2021)\n",
    "\n",
    "print(train_images.shape, val_images.shape)"
   ]
  },
  {
   "cell_type": "code",
   "execution_count": 45,
   "metadata": {},
   "outputs": [],
   "source": [
    "class CoattentionModel(tf.keras.layers.Layer):\n",
    "    def __init__(self):#, num_embeddings, num_classes, embed_dim=512, k=30\n",
    "        super().__init__()\n",
    "        self.num_classes = target_size\n",
    "        self.hidden_size = 512\n",
    "        self.dropout = 0.3\n",
    "        self.num_embeddings = len(tokenizer_questions.word_index)+1\n",
    "\n",
    "        self.image_dense = tf.keras.layers.Dense(self.hidden_size, kernel_initializer = tf.keras.initializers.glorot_normal(seed=15)) \n",
    "        self.image_corr = tf.keras.layers.Dense(self.hidden_size, kernel_initializer = tf.keras.initializers.glorot_normal(seed=29))\n",
    "\n",
    "        self.image_atten_dense = tf.keras.layers.Dense(self.hidden_size, kernel_initializer = tf.keras.initializers.glorot_uniform(seed=17)) \n",
    "        self.question_atten_dens = tf.keras.layers.Dense(self.hidden_size, kernel_initializer = tf.keras.initializers.glorot_uniform(seed=28))\n",
    "        self.question_atten_dropout = tf.keras.layers.Dropout(self.dropout)\n",
    "        self.image_atten_dropout = tf.keras.layers.Dropout(self.dropout)\n",
    "\n",
    "        self.ques_atten = tf.keras.layers.Dense(1, kernel_initializer = tf.keras.initializers.glorot_uniform(seed=21))\n",
    "\n",
    "        self.img_atten = tf.keras.layers.Dense(1, kernel_initializer = tf.keras.initializers.glorot_uniform(seed=33))\n",
    "\n",
    "        self.embed = tf.keras.layers.Embedding(self.num_embeddings, self.hidden_size,\n",
    "                                               embeddings_initializer = tf.keras.initializers.RandomNormal(mean=0, stddev=1, seed=23))\n",
    "        \n",
    "        self.unigram_conv = tf.keras.layers.Conv1D(filters = self.hidden_size, kernel_size = 1, strides = 1, padding = 'same', kernel_initializer = tf.keras.initializers.glorot_normal(seed=41))\n",
    "        self.bigram_conv  = tf.keras.layers.Conv1D(filters = self.hidden_size, kernel_size = 2, strides = 1, padding = 'same', kernel_initializer = tf.keras.initializers.glorot_normal(seed=58), dilation_rate = 2)\n",
    "        self.trigram_conv = tf.keras.layers.Conv1D(filters = self.hidden_size, kernel_size = 3, strides = 1, padding = 'same', kernel_initializer = tf.keras.initializers.glorot_normal(seed=89), dilation_rate = 2)\n",
    "        self.max_pool = tf.keras.layers.MaxPool2D((3,1))\n",
    "        self.phrase_dropout = tf.keras.layers.Dropout(self.dropout)\n",
    "        \n",
    "        self.lstm = tf.keras.layers.LSTM(units = 512 , return_sequences=True, dropout = self.dropout,\n",
    "                                         kernel_initializer = tf.keras.initializers.glorot_uniform(seed=26),\n",
    "                                         recurrent_initializer = tf.keras.initializers.orthogonal(seed=54))\n",
    "        \n",
    "        self.tanh = tf.keras.layers.Activation('tanh')\n",
    "        self.softmax = tf.keras.layers.Activation('softmax')\n",
    "        \n",
    "        self.W_w_dropout = tf.keras.layers.Dropout(self.dropout)\n",
    "        self.W_p_dropout = tf.keras.layers.Dropout(self.dropout)\n",
    "        self.W_s_dropout = tf.keras.layers.Dropout(self.dropout)\n",
    "\n",
    "        self.W_w = tf.keras.layers.Dense(units = self.hidden_size, kernel_initializer = tf.keras.initializers.glorot_uniform(seed=32), input_shape = (self.hidden_size,))\n",
    "        self.W_p = tf.keras.layers.Dense(units = self.hidden_size, kernel_initializer = tf.keras.initializers.glorot_uniform(seed=49), input_shape = (2 * self.hidden_size, ))\n",
    "        self.W_s = tf.keras.layers.Dense(units = self.hidden_size, kernel_initializer = tf.keras.initializers.glorot_uniform(seed=31), input_shape = (2 * self.hidden_size, ))\n",
    "        \n",
    "        self.fc1_Dense = tf.keras.layers.Dense(units = 2 * self.hidden_size, activation='relu',\n",
    "                                               kernel_initializer = tf.keras.initializers.he_normal(seed=84))\n",
    "        self.fc1_dropout = tf.keras.layers.Dropout(self.dropout)\n",
    "\n",
    "        self.fc = tf.keras.layers.Dense(units = self.num_classes, activation='softmax',kernel_initializer = tf.keras.initializers.glorot_uniform(seed=91), input_shape = (self.hidden_size,))\n",
    "        \n",
    "        return\n",
    "\n",
    "    def call(self, image, question):#Image: B x 196 x 512\n",
    "        \n",
    "        image = self.image_dense(image)\n",
    "        image = self.tanh(image)\n",
    "\n",
    "        words = self.embed(question)    # Words: B x L x 51\n",
    "\n",
    "        unigrams =  tf.expand_dims(self.tanh(self.unigram_conv(words)), 1) # B x L x 512\n",
    "        bigrams  =  tf.expand_dims(self.tanh(self.bigram_conv(words)), 1)  # B x L x 512\n",
    "        trigrams =  tf.expand_dims(self.tanh(self.trigram_conv(words)), 1) # B x L x 512\n",
    "\n",
    "        phrase = tf.squeeze(self.max_pool(tf.concat((unigrams, bigrams, trigrams), 1)), axis=1)  # B x L x 512\n",
    "        phrase = self.tanh(phrase)\n",
    "        phrase = self.phrase_dropout(phrase)\n",
    "  \n",
    "        hidden = None\n",
    "        sentence = self.lstm(phrase)        # B x L x 512   \n",
    "\n",
    "        v_word, q_word = self.co_attention(image, words)\n",
    "        v_phrase, q_phrase = self.co_attention(image, phrase)\n",
    "        v_sent, q_sent = self.co_attention(image, sentence)\n",
    "\n",
    "        h_w = self.tanh(self.W_w(self.W_w_dropout(q_word + v_word)))\n",
    "        h_p = self.tanh(self.W_p(self.W_p_dropout(tf.concat(((q_phrase + v_phrase), h_w), axis=1))))\n",
    "        h_s = self.tanh(self.W_s(self.W_s_dropout(tf.concat(((q_sent + v_sent), h_p), axis=1))))\n",
    "\n",
    "        fc1 = self.fc1_Dense(self.fc1_dropout(h_s))\n",
    "        logits = self.fc(fc1)\n",
    "\n",
    "        return logits\n",
    "\n",
    "    def co_attention(self, img_feat, ques_feat):  # V : B x 512 x 196, Q : B x L x 512\n",
    "        img_corr = self.image_corr(img_feat)\n",
    "\n",
    "        weight_matrix = tf.keras.backend.batch_dot(ques_feat, img_corr, axes = (2, 2))\n",
    "        weight_matrix = self.tanh(weight_matrix)\n",
    "\n",
    "        ques_embed = self.image_atten_dense(ques_feat)\n",
    "        img_embed = self.question_atten_dens(img_feat)\n",
    "\n",
    "        transform_img = tf.keras.backend.batch_dot(weight_matrix, img_embed)\n",
    "\n",
    "        ques_atten_sum = self.tanh(transform_img + ques_embed)\n",
    "        ques_atten_sum = self.question_atten_dropout(ques_atten_sum)\n",
    "        ques_atten = self.ques_atten(ques_atten_sum)\n",
    "        ques_atten =  tf.keras.layers.Reshape((ques_atten.shape[1],))(ques_atten)\n",
    "        ques_atten =  self.softmax(ques_atten)\n",
    "\n",
    "        # atten for image feature\n",
    "        transform_ques = tf.keras.backend.batch_dot(weight_matrix, ques_embed, axes = (1, 1))\n",
    "        img_atten_sum = self.tanh(transform_ques+img_embed)\n",
    "        img_atten_sum = self.image_atten_dropout(img_atten_sum)\n",
    "        img_atten = self.img_atten(img_atten_sum)\n",
    "        img_atten = tf.keras.layers.Reshape((img_atten.shape[1],))(img_atten)\n",
    "        img_atten = self.softmax(img_atten)\n",
    "\n",
    "        ques_atten = tf.keras.layers.Reshape(( 1, ques_atten.shape[1]))(ques_atten)\n",
    "        img_atten = tf.keras.layers.Reshape(( 1, img_atten.shape[1]))(img_atten)\n",
    "\n",
    "        ques_atten_feat = tf.keras.backend.batch_dot(ques_atten,ques_feat)\n",
    "        ques_atten_feat = tf.keras.layers.Reshape(( ques_atten_feat.shape[-1],))(ques_atten_feat)\n",
    "\n",
    "        img_atten_feat =  tf.keras.backend.batch_dot(img_atten, img_feat)\n",
    "        img_atten_feat = tf.keras.layers.Reshape((img_atten_feat.shape[-1],))(img_atten_feat)\n",
    "\n",
    "        return img_atten_feat, ques_atten_feat\n"
   ]
  },
  {
   "cell_type": "code",
   "execution_count": 46,
   "metadata": {},
   "outputs": [],
   "source": [
    "def build_model():\n",
    "    image_input = tf.keras.layers.Input(shape = (196, 512))\n",
    "\n",
    "    question_input = tf.keras.layers.Input(shape=(question_vector.shape[1],))\n",
    "\n",
    "    output = CoattentionModel()(image_input,question_input)#num_embeddings = len(ques_vocab), num_classes = len(ans_vocab), embed_dim = 512\n",
    "\n",
    "    model = tf.keras.models.Model(inputs = [image_input, question_input], outputs = output)\n",
    "\n",
    "    model.compile(optimizer = tf.keras.optimizers.Adam(learning_rate=0.0001), loss = 'categorical_crossentropy', metrics = ['accuracy'])\n",
    "    return model\n"
   ]
  },
  {
   "cell_type": "code",
   "execution_count": 47,
   "metadata": {},
   "outputs": [
    {
     "name": "stdout",
     "output_type": "stream",
     "text": [
      "Model: \"model_12\"\n",
      "__________________________________________________________________________________________________\n",
      "Layer (type)                    Output Shape         Param #     Connected to                     \n",
      "==================================================================================================\n",
      "input_18 (InputLayer)           [(None, 196, 512)]   0                                            \n",
      "__________________________________________________________________________________________________\n",
      "input_19 (InputLayer)           [(None, 23)]         0                                            \n",
      "__________________________________________________________________________________________________\n",
      "coattention_model_2 (Coattentio (None, 8926)         20298464    input_18[0][0]                   \n",
      "                                                                 input_19[0][0]                   \n",
      "==================================================================================================\n",
      "Total params: 20,298,464\n",
      "Trainable params: 20,298,464\n",
      "Non-trainable params: 0\n",
      "__________________________________________________________________________________________________\n"
     ]
    }
   ],
   "source": [
    "model = build_model() \n",
    "model.summary()"
   ]
  },
  {
   "cell_type": "code",
   "execution_count": 48,
   "metadata": {},
   "outputs": [
    {
     "name": "stdout",
     "output_type": "stream",
     "text": [
      "Epoch 1/50\n",
      "751/751 [==============================] - 126s 148ms/step - loss: 5.1367 - accuracy: 0.2069 - val_loss: 3.9816 - val_accuracy: 0.2567\n",
      "\n",
      "Epoch 00001: val_accuracy improved from -inf to 0.25670, saving model to hicoattention_vqa_epoch_001_val_3.982_val_accuracy_0.257.h5\n",
      "Epoch 2/50\n",
      "751/751 [==============================] - 66s 88ms/step - loss: 3.8190 - accuracy: 0.2515 - val_loss: 3.7942 - val_accuracy: 0.2752\n",
      "\n",
      "Epoch 00002: val_accuracy improved from 0.25670 to 0.27525, saving model to hicoattention_vqa_epoch_002_val_3.794_val_accuracy_0.275.h5\n",
      "Epoch 3/50\n",
      "751/751 [==============================] - 68s 90ms/step - loss: 3.5575 - accuracy: 0.2665 - val_loss: 3.7278 - val_accuracy: 0.2675\n",
      "\n",
      "Epoch 00003: val_accuracy did not improve from 0.27525\n",
      "Epoch 4/50\n",
      "751/751 [==============================] - 68s 90ms/step - loss: 3.3948 - accuracy: 0.2711 - val_loss: 3.6745 - val_accuracy: 0.2863\n",
      "\n",
      "Epoch 00004: val_accuracy improved from 0.27525 to 0.28630, saving model to hicoattention_vqa_epoch_004_val_3.674_val_accuracy_0.286.h5\n",
      "Epoch 5/50\n",
      "751/751 [==============================] - 68s 90ms/step - loss: 3.2643 - accuracy: 0.2802 - val_loss: 3.6426 - val_accuracy: 0.2871\n",
      "\n",
      "Epoch 00005: val_accuracy improved from 0.28630 to 0.28705, saving model to hicoattention_vqa_epoch_005_val_3.643_val_accuracy_0.287.h5\n",
      "Epoch 6/50\n",
      "751/751 [==============================] - 98s 130ms/step - loss: 3.1297 - accuracy: 0.2880 - val_loss: 3.5845 - val_accuracy: 0.2931\n",
      "\n",
      "Epoch 00006: val_accuracy improved from 0.28705 to 0.29314, saving model to hicoattention_vqa_epoch_006_val_3.585_val_accuracy_0.293.h5\n",
      "Epoch 7/50\n",
      "751/751 [==============================] - 66s 88ms/step - loss: 2.9902 - accuracy: 0.2956 - val_loss: 3.5752 - val_accuracy: 0.2919\n",
      "\n",
      "Epoch 00007: val_accuracy did not improve from 0.29314\n",
      "Epoch 8/50\n",
      "751/751 [==============================] - 67s 89ms/step - loss: 2.8572 - accuracy: 0.3032 - val_loss: 3.5738 - val_accuracy: 0.3120\n",
      "\n",
      "Epoch 00008: val_accuracy improved from 0.29314 to 0.31197, saving model to hicoattention_vqa_epoch_008_val_3.574_val_accuracy_0.312.h5\n",
      "Epoch 9/50\n",
      "751/751 [==============================] - 64s 86ms/step - loss: 2.7519 - accuracy: 0.3123 - val_loss: 3.6036 - val_accuracy: 0.3088\n",
      "\n",
      "Epoch 00009: val_accuracy did not improve from 0.31197\n",
      "Epoch 10/50\n",
      "751/751 [==============================] - 65s 86ms/step - loss: 2.6396 - accuracy: 0.3208 - val_loss: 3.6245 - val_accuracy: 0.3187\n",
      "\n",
      "Epoch 00010: val_accuracy improved from 0.31197 to 0.31872, saving model to hicoattention_vqa_epoch_010_val_3.624_val_accuracy_0.319.h5\n",
      "Epoch 11/50\n",
      "751/751 [==============================] - 103s 137ms/step - loss: 2.5126 - accuracy: 0.3276 - val_loss: 3.6603 - val_accuracy: 0.3203\n",
      "\n",
      "Epoch 00011: ReduceLROnPlateau reducing learning rate to 5.999999848427251e-05.\n",
      "\n",
      "Epoch 00011: val_accuracy improved from 0.31872 to 0.32031, saving model to hicoattention_vqa_epoch_011_val_3.660_val_accuracy_0.320.h5\n",
      "Epoch 12/50\n",
      "751/751 [==============================] - 71s 95ms/step - loss: 2.3944 - accuracy: 0.3382 - val_loss: 3.7120 - val_accuracy: 0.3238\n",
      "\n",
      "Epoch 00012: val_accuracy improved from 0.32031 to 0.32378, saving model to hicoattention_vqa_epoch_012_val_3.712_val_accuracy_0.324.h5\n",
      "Epoch 13/50\n",
      "751/751 [==============================] - 65s 87ms/step - loss: 2.3164 - accuracy: 0.3464 - val_loss: 3.7557 - val_accuracy: 0.3246\n",
      "\n",
      "Epoch 00013: val_accuracy improved from 0.32378 to 0.32462, saving model to hicoattention_vqa_epoch_013_val_3.756_val_accuracy_0.325.h5\n",
      "Epoch 14/50\n",
      "751/751 [==============================] - 65s 86ms/step - loss: 2.2390 - accuracy: 0.3542 - val_loss: 3.8115 - val_accuracy: 0.3261\n",
      "\n",
      "Epoch 00014: ReduceLROnPlateau reducing learning rate to 3.599999909056351e-05.\n",
      "\n",
      "Epoch 00014: val_accuracy improved from 0.32462 to 0.32612, saving model to hicoattention_vqa_epoch_014_val_3.811_val_accuracy_0.326.h5\n",
      "Epoch 15/50\n",
      "751/751 [==============================] - 66s 88ms/step - loss: 2.1786 - accuracy: 0.3668 - val_loss: 3.8505 - val_accuracy: 0.3284\n",
      "\n",
      "Epoch 00015: val_accuracy improved from 0.32612 to 0.32837, saving model to hicoattention_vqa_epoch_015_val_3.850_val_accuracy_0.328.h5\n",
      "Epoch 16/50\n",
      "751/751 [==============================] - 88s 117ms/step - loss: 2.1231 - accuracy: 0.3749 - val_loss: 3.8906 - val_accuracy: 0.3302\n",
      "\n",
      "Epoch 00016: val_accuracy improved from 0.32837 to 0.33024, saving model to hicoattention_vqa_epoch_016_val_3.891_val_accuracy_0.330.h5\n",
      "Epoch 17/50\n",
      "751/751 [==============================] - 82s 109ms/step - loss: 2.0748 - accuracy: 0.3821 - val_loss: 3.9275 - val_accuracy: 0.3309\n",
      "\n",
      "Epoch 00017: ReduceLROnPlateau reducing learning rate to 2.1599998581223188e-05.\n",
      "\n",
      "Epoch 00017: val_accuracy improved from 0.33024 to 0.33090, saving model to hicoattention_vqa_epoch_017_val_3.927_val_accuracy_0.331.h5\n",
      "Epoch 18/50\n",
      "751/751 [==============================] - 67s 89ms/step - loss: 2.0341 - accuracy: 0.3881 - val_loss: 3.9598 - val_accuracy: 0.3358\n",
      "\n",
      "Epoch 00018: val_accuracy improved from 0.33090 to 0.33577, saving model to hicoattention_vqa_epoch_018_val_3.960_val_accuracy_0.336.h5\n",
      "Epoch 19/50\n",
      "751/751 [==============================] - 65s 86ms/step - loss: 2.0133 - accuracy: 0.3927 - val_loss: 3.9749 - val_accuracy: 0.3352\n",
      "\n",
      "Epoch 00019: val_accuracy did not improve from 0.33577\n",
      "Epoch 20/50\n",
      "751/751 [==============================] - 68s 90ms/step - loss: 1.9869 - accuracy: 0.3963 - val_loss: 4.0040 - val_accuracy: 0.3353\n",
      "\n",
      "Epoch 00020: ReduceLROnPlateau reducing learning rate to 1.2959999367012642e-05.\n",
      "\n",
      "Epoch 00020: val_accuracy did not improve from 0.33577\n",
      "Epoch 21/50\n",
      "751/751 [==============================] - 78s 104ms/step - loss: 1.9476 - accuracy: 0.4059 - val_loss: 4.0181 - val_accuracy: 0.3346\n",
      "\n",
      "Epoch 00021: val_accuracy did not improve from 0.33577\n",
      "Epoch 22/50\n",
      "751/751 [==============================] - 89s 118ms/step - loss: 1.9295 - accuracy: 0.4065 - val_loss: 4.0363 - val_accuracy: 0.3338\n",
      "\n",
      "Epoch 00022: val_accuracy did not improve from 0.33577\n",
      "Epoch 23/50\n",
      "751/751 [==============================] - 65s 86ms/step - loss: 1.9204 - accuracy: 0.4084 - val_loss: 4.0462 - val_accuracy: 0.3354\n",
      "\n",
      "Epoch 00023: ReduceLROnPlateau reducing learning rate to 7.775999620207585e-06.\n",
      "\n",
      "Epoch 00023: val_accuracy did not improve from 0.33577\n",
      "Epoch 24/50\n",
      "751/751 [==============================] - 69s 92ms/step - loss: 1.9100 - accuracy: 0.4120 - val_loss: 4.0581 - val_accuracy: 0.3358\n",
      "\n",
      "Epoch 00024: val_accuracy did not improve from 0.33577\n",
      "Epoch 25/50\n",
      "751/751 [==============================] - 68s 91ms/step - loss: 1.8912 - accuracy: 0.4179 - val_loss: 4.0677 - val_accuracy: 0.3367\n",
      "\n",
      "Epoch 00025: val_accuracy improved from 0.33577 to 0.33671, saving model to hicoattention_vqa_epoch_025_val_4.068_val_accuracy_0.337.h5\n",
      "Epoch 26/50\n",
      "751/751 [==============================] - 64s 86ms/step - loss: 1.8856 - accuracy: 0.4180 - val_loss: 4.0770 - val_accuracy: 0.3352\n",
      "\n",
      "Epoch 00026: ReduceLROnPlateau reducing learning rate to 4.665599772124551e-06.\n",
      "\n",
      "Epoch 00026: val_accuracy did not improve from 0.33671\n",
      "Epoch 27/50\n",
      "751/751 [==============================] - 97s 130ms/step - loss: 1.8699 - accuracy: 0.4230 - val_loss: 4.0827 - val_accuracy: 0.3358\n",
      "\n",
      "Epoch 00027: val_accuracy did not improve from 0.33671\n",
      "Epoch 28/50\n",
      "751/751 [==============================] - 65s 87ms/step - loss: 1.8768 - accuracy: 0.4205 - val_loss: 4.0890 - val_accuracy: 0.3375\n",
      "\n",
      "Epoch 00028: val_accuracy improved from 0.33671 to 0.33755, saving model to hicoattention_vqa_epoch_028_val_4.089_val_accuracy_0.338.h5\n",
      "Epoch 29/50\n",
      "751/751 [==============================] - 68s 90ms/step - loss: 1.8682 - accuracy: 0.4236 - val_loss: 4.0949 - val_accuracy: 0.3351\n",
      "\n",
      "Epoch 00029: ReduceLROnPlateau reducing learning rate to 2.7993597541353666e-06.\n",
      "\n",
      "Epoch 00029: val_accuracy did not improve from 0.33755\n",
      "Epoch 30/50\n",
      "751/751 [==============================] - 65s 87ms/step - loss: 1.8482 - accuracy: 0.4264 - val_loss: 4.0992 - val_accuracy: 0.3365\n",
      "\n",
      "Epoch 00030: val_accuracy did not improve from 0.33755\n",
      "Epoch 31/50\n",
      "751/751 [==============================] - 64s 86ms/step - loss: 1.8559 - accuracy: 0.4256 - val_loss: 4.1013 - val_accuracy: 0.3370\n",
      "\n",
      "Epoch 00031: val_accuracy did not improve from 0.33755\n",
      "Epoch 32/50\n"
     ]
    },
    {
     "name": "stdout",
     "output_type": "stream",
     "text": [
      "751/751 [==============================] - 101s 135ms/step - loss: 1.8457 - accuracy: 0.4266 - val_loss: 4.1054 - val_accuracy: 0.3376\n",
      "\n",
      "Epoch 00032: ReduceLROnPlateau reducing learning rate to 1.6796157979115377e-06.\n",
      "\n",
      "Epoch 00032: val_accuracy improved from 0.33755 to 0.33764, saving model to hicoattention_vqa_epoch_032_val_4.105_val_accuracy_0.338.h5\n",
      "Epoch 33/50\n",
      "751/751 [==============================] - 64s 85ms/step - loss: 1.8499 - accuracy: 0.4283 - val_loss: 4.1077 - val_accuracy: 0.3365\n",
      "\n",
      "Epoch 00033: val_accuracy did not improve from 0.33764\n",
      "Epoch 34/50\n",
      "751/751 [==============================] - 67s 90ms/step - loss: 1.8518 - accuracy: 0.4265 - val_loss: 4.1093 - val_accuracy: 0.3366\n",
      "\n",
      "Epoch 00034: val_accuracy did not improve from 0.33764\n",
      "Epoch 35/50\n",
      "751/751 [==============================] - 66s 88ms/step - loss: 1.8364 - accuracy: 0.4287 - val_loss: 4.1117 - val_accuracy: 0.3363\n",
      "\n",
      "Epoch 00035: ReduceLROnPlateau reducing learning rate to 1.0077694923893431e-06.\n",
      "\n",
      "Epoch 00035: val_accuracy did not improve from 0.33764\n",
      "Epoch 36/50\n",
      "751/751 [==============================] - 67s 90ms/step - loss: 1.8400 - accuracy: 0.4269 - val_loss: 4.1126 - val_accuracy: 0.3368\n",
      "\n",
      "Epoch 00036: val_accuracy did not improve from 0.33764\n",
      "Epoch 37/50\n",
      "751/751 [==============================] - 85s 113ms/step - loss: 1.8470 - accuracy: 0.4292 - val_loss: 4.1138 - val_accuracy: 0.3364\n",
      "\n",
      "Epoch 00037: val_accuracy did not improve from 0.33764\n",
      "Epoch 38/50\n",
      "751/751 [==============================] - 79s 105ms/step - loss: 1.8396 - accuracy: 0.4296 - val_loss: 4.1155 - val_accuracy: 0.3371\n",
      "\n",
      "Epoch 00038: ReduceLROnPlateau reducing learning rate to 6.046616817911853e-07.\n",
      "\n",
      "Epoch 00038: val_accuracy did not improve from 0.33764\n",
      "Epoch 39/50\n",
      "751/751 [==============================] - 66s 88ms/step - loss: 1.8360 - accuracy: 0.4307 - val_loss: 4.1163 - val_accuracy: 0.3369\n",
      "\n",
      "Epoch 00039: val_accuracy did not improve from 0.33764\n",
      "Epoch 40/50\n",
      "751/751 [==============================] - 67s 89ms/step - loss: 1.8291 - accuracy: 0.4309 - val_loss: 4.1173 - val_accuracy: 0.3374\n",
      "\n",
      "Epoch 00040: val_accuracy did not improve from 0.33764\n",
      "Epoch 41/50\n",
      "751/751 [==============================] - 67s 89ms/step - loss: 1.8245 - accuracy: 0.4331 - val_loss: 4.1181 - val_accuracy: 0.3369\n",
      "\n",
      "Epoch 00041: ReduceLROnPlateau reducing learning rate to 3.627970158959215e-07.\n",
      "\n",
      "Epoch 00041: val_accuracy did not improve from 0.33764\n",
      "Epoch 42/50\n",
      "751/751 [==============================] - 81s 107ms/step - loss: 1.8365 - accuracy: 0.4287 - val_loss: 4.1184 - val_accuracy: 0.3366\n",
      "\n",
      "Epoch 00042: val_accuracy did not improve from 0.33764\n",
      "Epoch 43/50\n",
      "751/751 [==============================] - 86s 114ms/step - loss: 1.8324 - accuracy: 0.4291 - val_loss: 4.1187 - val_accuracy: 0.3368\n",
      "\n",
      "Epoch 00043: val_accuracy did not improve from 0.33764\n",
      "Epoch 44/50\n",
      "751/751 [==============================] - 67s 89ms/step - loss: 1.8315 - accuracy: 0.4338 - val_loss: 4.1191 - val_accuracy: 0.3369\n",
      "\n",
      "Epoch 00044: ReduceLROnPlateau reducing learning rate to 2.1767820612694777e-07.\n",
      "\n",
      "Epoch 00044: val_accuracy did not improve from 0.33764\n",
      "Epoch 45/50\n",
      "751/751 [==============================] - 65s 87ms/step - loss: 1.8300 - accuracy: 0.4327 - val_loss: 4.1194 - val_accuracy: 0.3371\n",
      "\n",
      "Epoch 00045: val_accuracy did not improve from 0.33764\n",
      "Epoch 46/50\n",
      "751/751 [==============================] - 70s 94ms/step - loss: 1.8276 - accuracy: 0.4326 - val_loss: 4.1197 - val_accuracy: 0.3374\n",
      "\n",
      "Epoch 00046: val_accuracy did not improve from 0.33764\n",
      "Epoch 47/50\n",
      "751/751 [==============================] - 65s 86ms/step - loss: 1.8272 - accuracy: 0.4342 - val_loss: 4.1200 - val_accuracy: 0.3372\n",
      "\n",
      "Epoch 00047: ReduceLROnPlateau reducing learning rate to 1.3060692367616865e-07.\n",
      "\n",
      "Epoch 00047: val_accuracy did not improve from 0.33764\n",
      "Epoch 48/50\n",
      "751/751 [==============================] - 97s 129ms/step - loss: 1.8331 - accuracy: 0.4284 - val_loss: 4.1201 - val_accuracy: 0.3373\n",
      "\n",
      "Epoch 00048: val_accuracy did not improve from 0.33764\n",
      "Epoch 49/50\n",
      "751/751 [==============================] - 66s 87ms/step - loss: 1.8306 - accuracy: 0.4295 - val_loss: 4.1203 - val_accuracy: 0.3373\n",
      "\n",
      "Epoch 00049: val_accuracy did not improve from 0.33764\n",
      "Epoch 50/50\n",
      "751/751 [==============================] - 66s 88ms/step - loss: 1.8345 - accuracy: 0.4292 - val_loss: 4.1204 - val_accuracy: 0.3376\n",
      "\n",
      "Epoch 00050: ReduceLROnPlateau reducing learning rate to 7.836415250039863e-08.\n",
      "\n",
      "Epoch 00050: val_accuracy did not improve from 0.33764\n"
     ]
    }
   ],
   "source": [
    "model_path = 'hicoattention_vqa_epoch_{epoch:03d}_val_{val_loss:.3f}_val_accuracy_{val_accuracy:.3f}.h5' \n",
    "\n",
    "learning_rate_reduction = ReduceLROnPlateau(monitor = 'val_loss', patience = 3, verbose = 1, factor = 0.6) \n",
    "\n",
    "checkpoint = ModelCheckpoint(filepath = model_path, monitor = 'val_accuracy', verbose = 1, save_best_only = True)\n",
    "\n",
    "early_stopping = EarlyStopping(monitor = 'val_accuracy', patience = 10) \n",
    "\n",
    "history = model.fit([train_images, train_questions], \n",
    "                    train_answers, \n",
    "                    batch_size = 128, \n",
    "                    epochs = 50, \n",
    "                    validation_data = ([val_images, val_questions], val_answers), \n",
    "                    callbacks = [learning_rate_reduction, checkpoint]) "
   ]
  },
  {
   "cell_type": "markdown",
   "metadata": {},
   "source": [
    "# Plot loss and accuracy graph"
   ]
  },
  {
   "cell_type": "code",
   "execution_count": 49,
   "metadata": {},
   "outputs": [
    {
     "data": {
      "image/png": "[encoded data removed]",
      "text/plain": [
       "<Figure size 432x288 with 1 Axes>"
      ]
     },
     "metadata": {
      "needs_background": "light"
     },
     "output_type": "display_data"
    }
   ],
   "source": [
    "plt.plot(history.history['accuracy']) \n",
    "plt.plot(history.history['val_accuracy']) \n",
    "plt.title('model accuracy') \n",
    "plt.ylabel('accuracy') \n",
    "plt.xlabel('epochs') \n",
    "plt.legend(['train', 'val'], loc = 'upper left') \n",
    "plt.show() "
   ]
  },
  {
   "cell_type": "code",
   "execution_count": 50,
   "metadata": {},
   "outputs": [
    {
     "data": {
      "image/png": "[encoded data removed]",
      "text/plain": [
       "<Figure size 432x288 with 1 Axes>"
      ]
     },
     "metadata": {
      "needs_background": "light"
     },
     "output_type": "display_data"
    }
   ],
   "source": [
    "plt.plot(history.history['loss']) \n",
    "plt.plot(history.history['val_loss']) \n",
    "plt.title('model loss') \n",
    "plt.ylabel('loss')\n",
    "plt.xlabel('epochs') \n",
    "plt.legend(['train','val'], loc = 'upper left') \n",
    "plt.show() "
   ]
  }
 ],
 "metadata": {
  "kernelspec": {
   "display_name": "Python 3",
   "language": "python",
   "name": "python3"
  },
  "language_info": {
   "codemirror_mode": {
    "name": "ipython",
    "version": 3
   },
   "file_extension": ".py",
   "mimetype": "text/x-python",
   "name": "python",
   "nbconvert_exporter": "python",
   "pygments_lexer": "ipython3",
   "version": "3.6.9"
  }
 },
 "nbformat": 4,
 "nbformat_minor": 2
}

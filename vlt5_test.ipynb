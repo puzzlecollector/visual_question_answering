{
  "nbformat": 4,
  "nbformat_minor": 0,
  "metadata": {
    "colab": {
      "name": "VLT5_inference.ipynb",
      "provenance": [],
      "collapsed_sections": [],
      "machine_shape": "hm"
    },
    "kernelspec": {
      "name": "python3",
      "display_name": "Python 3"
    },
    "language_info": {
      "name": "python"
    },
    "accelerator": "GPU",
    "widgets": {
      "application/vnd.jupyter.widget-state+json": {
        "5b326a0d10ec4a909f8d361b924a89da": {
          "model_module": "@jupyter-widgets/controls",
          "model_name": "HBoxModel",
          "state": {
            "_view_name": "HBoxView",
            "_dom_classes": [],
            "_model_name": "HBoxModel",
            "_view_module": "@jupyter-widgets/controls",
            "_model_module_version": "1.5.0",
            "_view_count": null,
            "_view_module_version": "1.5.0",
            "box_style": "",
            "layout": "IPY_MODEL_8d7579cafd364a7aabba77a3a55b0a81",
            "_model_module": "@jupyter-widgets/controls",
            "children": [
              "IPY_MODEL_babd093c378249e8b216430d6c2195e5",
              "IPY_MODEL_883cb447b61942d8a2b11ed799835058"
            ]
          }
        },
        "8d7579cafd364a7aabba77a3a55b0a81": {
          "model_module": "@jupyter-widgets/base",
          "model_name": "LayoutModel",
          "state": {
            "_view_name": "LayoutView",
            "grid_template_rows": null,
            "right": null,
            "justify_content": null,
            "_view_module": "@jupyter-widgets/base",
            "overflow": null,
            "_model_module_version": "1.2.0",
            "_view_count": null,
            "flex_flow": null,
            "width": null,
            "min_width": null,
            "border": null,
            "align_items": null,
            "bottom": null,
            "_model_module": "@jupyter-widgets/base",
            "top": null,
            "grid_column": null,
            "overflow_y": null,
            "overflow_x": null,
            "grid_auto_flow": null,
            "grid_area": null,
            "grid_template_columns": null,
            "flex": null,
            "_model_name": "LayoutModel",
            "justify_items": null,
            "grid_row": null,
            "max_height": null,
            "align_content": null,
            "visibility": null,
            "align_self": null,
            "height": null,
            "min_height": null,
            "padding": null,
            "grid_auto_rows": null,
            "grid_gap": null,
            "max_width": null,
            "order": null,
            "_view_module_version": "1.2.0",
            "grid_template_areas": null,
            "object_position": null,
            "object_fit": null,
            "grid_auto_columns": null,
            "margin": null,
            "display": null,
            "left": null
          }
        },
        "babd093c378249e8b216430d6c2195e5": {
          "model_module": "@jupyter-widgets/controls",
          "model_name": "FloatProgressModel",
          "state": {
            "_view_name": "ProgressView",
            "style": "IPY_MODEL_a54205c30ec3425c9384ae432b9bbe80",
            "_dom_classes": [],
            "description": "Downloading: 100%",
            "_model_name": "FloatProgressModel",
            "bar_style": "success",
            "max": 2132,
            "_view_module": "@jupyter-widgets/controls",
            "_model_module_version": "1.5.0",
            "value": 2132,
            "_view_count": null,
            "_view_module_version": "1.5.0",
            "orientation": "horizontal",
            "min": 0,
            "description_tooltip": null,
            "_model_module": "@jupyter-widgets/controls",
            "layout": "IPY_MODEL_a51c90d4efcf43259fcaeed02248835d"
          }
        },
        "883cb447b61942d8a2b11ed799835058": {
          "model_module": "@jupyter-widgets/controls",
          "model_name": "HTMLModel",
          "state": {
            "_view_name": "HTMLView",
            "style": "IPY_MODEL_f1f390196da94f73a556d5cc1498e51a",
            "_dom_classes": [],
            "description": "",
            "_model_name": "HTMLModel",
            "placeholder": "​",
            "_view_module": "@jupyter-widgets/controls",
            "_model_module_version": "1.5.0",
            "value": " 2.13k/2.13k [00:00&lt;00:00, 57.5kB/s]",
            "_view_count": null,
            "_view_module_version": "1.5.0",
            "description_tooltip": null,
            "_model_module": "@jupyter-widgets/controls",
            "layout": "IPY_MODEL_4b2707660ced451eb6962d3509fd9791"
          }
        },
        "a54205c30ec3425c9384ae432b9bbe80": {
          "model_module": "@jupyter-widgets/controls",
          "model_name": "ProgressStyleModel",
          "state": {
            "_view_name": "StyleView",
            "_model_name": "ProgressStyleModel",
            "description_width": "initial",
            "_view_module": "@jupyter-widgets/base",
            "_model_module_version": "1.5.0",
            "_view_count": null,
            "_view_module_version": "1.2.0",
            "bar_color": null,
            "_model_module": "@jupyter-widgets/controls"
          }
        },
        "a51c90d4efcf43259fcaeed02248835d": {
          "model_module": "@jupyter-widgets/base",
          "model_name": "LayoutModel",
          "state": {
            "_view_name": "LayoutView",
            "grid_template_rows": null,
            "right": null,
            "justify_content": null,
            "_view_module": "@jupyter-widgets/base",
            "overflow": null,
            "_model_module_version": "1.2.0",
            "_view_count": null,
            "flex_flow": null,
            "width": null,
            "min_width": null,
            "border": null,
            "align_items": null,
            "bottom": null,
            "_model_module": "@jupyter-widgets/base",
            "top": null,
            "grid_column": null,
            "overflow_y": null,
            "overflow_x": null,
            "grid_auto_flow": null,
            "grid_area": null,
            "grid_template_columns": null,
            "flex": null,
            "_model_name": "LayoutModel",
            "justify_items": null,
            "grid_row": null,
            "max_height": null,
            "align_content": null,
            "visibility": null,
            "align_self": null,
            "height": null,
            "min_height": null,
            "padding": null,
            "grid_auto_rows": null,
            "grid_gap": null,
            "max_width": null,
            "order": null,
            "_view_module_version": "1.2.0",
            "grid_template_areas": null,
            "object_position": null,
            "object_fit": null,
            "grid_auto_columns": null,
            "margin": null,
            "display": null,
            "left": null
          }
        },
        "f1f390196da94f73a556d5cc1498e51a": {
          "model_module": "@jupyter-widgets/controls",
          "model_name": "DescriptionStyleModel",
          "state": {
            "_view_name": "StyleView",
            "_model_name": "DescriptionStyleModel",
            "description_width": "",
            "_view_module": "@jupyter-widgets/base",
            "_model_module_version": "1.5.0",
            "_view_count": null,
            "_view_module_version": "1.2.0",
            "_model_module": "@jupyter-widgets/controls"
          }
        },
        "4b2707660ced451eb6962d3509fd9791": {
          "model_module": "@jupyter-widgets/base",
          "model_name": "LayoutModel",
          "state": {
            "_view_name": "LayoutView",
            "grid_template_rows": null,
            "right": null,
            "justify_content": null,
            "_view_module": "@jupyter-widgets/base",
            "overflow": null,
            "_model_module_version": "1.2.0",
            "_view_count": null,
            "flex_flow": null,
            "width": null,
            "min_width": null,
            "border": null,
            "align_items": null,
            "bottom": null,
            "_model_module": "@jupyter-widgets/base",
            "top": null,
            "grid_column": null,
            "overflow_y": null,
            "overflow_x": null,
            "grid_auto_flow": null,
            "grid_area": null,
            "grid_template_columns": null,
            "flex": null,
            "_model_name": "LayoutModel",
            "justify_items": null,
            "grid_row": null,
            "max_height": null,
            "align_content": null,
            "visibility": null,
            "align_self": null,
            "height": null,
            "min_height": null,
            "padding": null,
            "grid_auto_rows": null,
            "grid_gap": null,
            "max_width": null,
            "order": null,
            "_view_module_version": "1.2.0",
            "grid_template_areas": null,
            "object_position": null,
            "object_fit": null,
            "grid_auto_columns": null,
            "margin": null,
            "display": null,
            "left": null
          }
        },
        "a9b40fc015f3481dadd694afcd7c3dd3": {
          "model_module": "@jupyter-widgets/controls",
          "model_name": "HBoxModel",
          "state": {
            "_view_name": "HBoxView",
            "_dom_classes": [],
            "_model_name": "HBoxModel",
            "_view_module": "@jupyter-widgets/controls",
            "_model_module_version": "1.5.0",
            "_view_count": null,
            "_view_module_version": "1.5.0",
            "box_style": "",
            "layout": "IPY_MODEL_cbf3c30132da438fb27341b6af3b84d2",
            "_model_module": "@jupyter-widgets/controls",
            "children": [
              "IPY_MODEL_213d4d01e5884088acdd2c27bb88f506",
              "IPY_MODEL_a55bffd23811405699f836f3a4e726a7"
            ]
          }
        },
        "cbf3c30132da438fb27341b6af3b84d2": {
          "model_module": "@jupyter-widgets/base",
          "model_name": "LayoutModel",
          "state": {
            "_view_name": "LayoutView",
            "grid_template_rows": null,
            "right": null,
            "justify_content": null,
            "_view_module": "@jupyter-widgets/base",
            "overflow": null,
            "_model_module_version": "1.2.0",
            "_view_count": null,
            "flex_flow": null,
            "width": null,
            "min_width": null,
            "border": null,
            "align_items": null,
            "bottom": null,
            "_model_module": "@jupyter-widgets/base",
            "top": null,
            "grid_column": null,
            "overflow_y": null,
            "overflow_x": null,
            "grid_auto_flow": null,
            "grid_area": null,
            "grid_template_columns": null,
            "flex": null,
            "_model_name": "LayoutModel",
            "justify_items": null,
            "grid_row": null,
            "max_height": null,
            "align_content": null,
            "visibility": null,
            "align_self": null,
            "height": null,
            "min_height": null,
            "padding": null,
            "grid_auto_rows": null,
            "grid_gap": null,
            "max_width": null,
            "order": null,
            "_view_module_version": "1.2.0",
            "grid_template_areas": null,
            "object_position": null,
            "object_fit": null,
            "grid_auto_columns": null,
            "margin": null,
            "display": null,
            "left": null
          }
        },
        "213d4d01e5884088acdd2c27bb88f506": {
          "model_module": "@jupyter-widgets/controls",
          "model_name": "FloatProgressModel",
          "state": {
            "_view_name": "ProgressView",
            "style": "IPY_MODEL_6b68088cbc404ceda2fcb83f4a64add5",
            "_dom_classes": [],
            "description": "Downloading: 100%",
            "_model_name": "FloatProgressModel",
            "bar_style": "success",
            "max": 262398754,
            "_view_module": "@jupyter-widgets/controls",
            "_model_module_version": "1.5.0",
            "value": 262398754,
            "_view_count": null,
            "_view_module_version": "1.5.0",
            "orientation": "horizontal",
            "min": 0,
            "description_tooltip": null,
            "_model_module": "@jupyter-widgets/controls",
            "layout": "IPY_MODEL_05d1ee445efe4a1e825b4818744151cd"
          }
        },
        "a55bffd23811405699f836f3a4e726a7": {
          "model_module": "@jupyter-widgets/controls",
          "model_name": "HTMLModel",
          "state": {
            "_view_name": "HTMLView",
            "style": "IPY_MODEL_93681428dd8a401ab70902fe558a02f3",
            "_dom_classes": [],
            "description": "",
            "_model_name": "HTMLModel",
            "placeholder": "​",
            "_view_module": "@jupyter-widgets/controls",
            "_model_module_version": "1.5.0",
            "value": " 262M/262M [00:22&lt;00:00, 11.6MB/s]",
            "_view_count": null,
            "_view_module_version": "1.5.0",
            "description_tooltip": null,
            "_model_module": "@jupyter-widgets/controls",
            "layout": "IPY_MODEL_a4640e15a66e4126bf1a53a47276dfd2"
          }
        },
        "6b68088cbc404ceda2fcb83f4a64add5": {
          "model_module": "@jupyter-widgets/controls",
          "model_name": "ProgressStyleModel",
          "state": {
            "_view_name": "StyleView",
            "_model_name": "ProgressStyleModel",
            "description_width": "initial",
            "_view_module": "@jupyter-widgets/base",
            "_model_module_version": "1.5.0",
            "_view_count": null,
            "_view_module_version": "1.2.0",
            "bar_color": null,
            "_model_module": "@jupyter-widgets/controls"
          }
        },
        "05d1ee445efe4a1e825b4818744151cd": {
          "model_module": "@jupyter-widgets/base",
          "model_name": "LayoutModel",
          "state": {
            "_view_name": "LayoutView",
            "grid_template_rows": null,
            "right": null,
            "justify_content": null,
            "_view_module": "@jupyter-widgets/base",
            "overflow": null,
            "_model_module_version": "1.2.0",
            "_view_count": null,
            "flex_flow": null,
            "width": null,
            "min_width": null,
            "border": null,
            "align_items": null,
            "bottom": null,
            "_model_module": "@jupyter-widgets/base",
            "top": null,
            "grid_column": null,
            "overflow_y": null,
            "overflow_x": null,
            "grid_auto_flow": null,
            "grid_area": null,
            "grid_template_columns": null,
            "flex": null,
            "_model_name": "LayoutModel",
            "justify_items": null,
            "grid_row": null,
            "max_height": null,
            "align_content": null,
            "visibility": null,
            "align_self": null,
            "height": null,
            "min_height": null,
            "padding": null,
            "grid_auto_rows": null,
            "grid_gap": null,
            "max_width": null,
            "order": null,
            "_view_module_version": "1.2.0",
            "grid_template_areas": null,
            "object_position": null,
            "object_fit": null,
            "grid_auto_columns": null,
            "margin": null,
            "display": null,
            "left": null
          }
        },
        "93681428dd8a401ab70902fe558a02f3": {
          "model_module": "@jupyter-widgets/controls",
          "model_name": "DescriptionStyleModel",
          "state": {
            "_view_name": "StyleView",
            "_model_name": "DescriptionStyleModel",
            "description_width": "",
            "_view_module": "@jupyter-widgets/base",
            "_model_module_version": "1.5.0",
            "_view_count": null,
            "_view_module_version": "1.2.0",
            "_model_module": "@jupyter-widgets/controls"
          }
        },
        "a4640e15a66e4126bf1a53a47276dfd2": {
          "model_module": "@jupyter-widgets/base",
          "model_name": "LayoutModel",
          "state": {
            "_view_name": "LayoutView",
            "grid_template_rows": null,
            "right": null,
            "justify_content": null,
            "_view_module": "@jupyter-widgets/base",
            "overflow": null,
            "_model_module_version": "1.2.0",
            "_view_count": null,
            "flex_flow": null,
            "width": null,
            "min_width": null,
            "border": null,
            "align_items": null,
            "bottom": null,
            "_model_module": "@jupyter-widgets/base",
            "top": null,
            "grid_column": null,
            "overflow_y": null,
            "overflow_x": null,
            "grid_auto_flow": null,
            "grid_area": null,
            "grid_template_columns": null,
            "flex": null,
            "_model_name": "LayoutModel",
            "justify_items": null,
            "grid_row": null,
            "max_height": null,
            "align_content": null,
            "visibility": null,
            "align_self": null,
            "height": null,
            "min_height": null,
            "padding": null,
            "grid_auto_rows": null,
            "grid_gap": null,
            "max_width": null,
            "order": null,
            "_view_module_version": "1.2.0",
            "grid_template_areas": null,
            "object_position": null,
            "object_fit": null,
            "grid_auto_columns": null,
            "margin": null,
            "display": null,
            "left": null
          }
        }
      }
    }
  },
  "cells": [
    {
      "cell_type": "markdown",
      "metadata": {
        "id": "g1WWyOAQdGcJ"
      },
      "source": [
        "# Download code and install dependencies"
      ]
    },
    {
      "cell_type": "code",
      "metadata": {
        "colab": {
          "base_uri": "https://localhost:8080/"
        },
        "id": "f-hGlqBkTRFf",
        "outputId": "a428f60e-989a-4036-8b20-2efee91722fe"
      },
      "source": [
        "!git clone https://github.com/j-min/VL-T5"
      ],
      "execution_count": 1,
      "outputs": [
        {
          "output_type": "stream",
          "text": [
            "Cloning into 'VL-T5'...\n",
            "remote: Enumerating objects: 190, done.\u001b[K\n",
            "remote: Counting objects: 100% (190/190), done.\u001b[K\n",
            "remote: Compressing objects: 100% (111/111), done.\u001b[K\n",
            "remote: Total 190 (delta 99), reused 156 (delta 74), pack-reused 0\u001b[K\n",
            "Receiving objects: 100% (190/190), 904.66 KiB | 2.03 MiB/s, done.\n",
            "Resolving deltas: 100% (99/99), done.\n"
          ],
          "name": "stdout"
        }
      ]
    },
    {
      "cell_type": "code",
      "metadata": {
        "colab": {
          "base_uri": "https://localhost:8080/"
        },
        "id": "n4Cpch4gT7UV",
        "outputId": "cbcac764-6f8f-450a-b350-11b8fa50b54e"
      },
      "source": [
        "cd VL-T5"
      ],
      "execution_count": 2,
      "outputs": [
        {
          "output_type": "stream",
          "text": [
            "/content/VL-T5\n"
          ],
          "name": "stdout"
        }
      ]
    },
    {
      "cell_type": "code",
      "metadata": {
        "colab": {
          "base_uri": "https://localhost:8080/"
        },
        "id": "Tcn1IoomUB6K",
        "outputId": "58b771f4-b308-45bb-92d1-877f527772d3"
      },
      "source": [
        "!pip uninstall param -y \n",
        "!pip install -r requirements.txt \n",
        "!python download_backbones.py"
      ],
      "execution_count": 3,
      "outputs": [
        {
          "output_type": "stream",
          "text": [
            "Uninstalling param-1.10.1:\n",
            "  Successfully uninstalled param-1.10.1\n",
            "Collecting git+git://github.com/j-min/language-evaluation@master (from -r requirements.txt (line 12))\n",
            "  Cloning git://github.com/j-min/language-evaluation (to revision master) to /tmp/pip-req-build-gc3jeeqn\n",
            "  Running command git clone -q git://github.com/j-min/language-evaluation /tmp/pip-req-build-gc3jeeqn\n",
            "Collecting torch==1.6.0\n",
            "\u001b[?25l  Downloading https://files.pythonhosted.org/packages/5d/5e/35140615fc1f925023f489e71086a9ecc188053d263d3594237281284d82/torch-1.6.0-cp37-cp37m-manylinux1_x86_64.whl (748.8MB)\n",
            "\u001b[K     |████████████████████████████████| 748.8MB 12kB/s \n",
            "\u001b[?25hCollecting transformers==4.2.1\n",
            "\u001b[?25l  Downloading https://files.pythonhosted.org/packages/cd/40/866cbfac4601e0f74c7303d533a9c5d4a53858bd402e08e3e294dd271f25/transformers-4.2.1-py3-none-any.whl (1.8MB)\n",
            "\u001b[K     |████████████████████████████████| 1.8MB 48.5MB/s \n",
            "\u001b[?25hCollecting sentencepiece\n",
            "\u001b[?25l  Downloading https://files.pythonhosted.org/packages/ac/aa/1437691b0c7c83086ebb79ce2da16e00bef024f24fec2a5161c35476f499/sentencepiece-0.1.96-cp37-cp37m-manylinux_2_17_x86_64.manylinux2014_x86_64.whl (1.2MB)\n",
            "\u001b[K     |████████████████████████████████| 1.2MB 58.8MB/s \n",
            "\u001b[?25hRequirement already satisfied: h5py in /usr/local/lib/python3.7/dist-packages (from -r requirements.txt (line 4)) (3.1.0)\n",
            "Collecting wandb\n",
            "\u001b[?25l  Downloading https://files.pythonhosted.org/packages/d4/f6/91c07f54c2162854f5028aaa13f576ca17a3bc0cf6da02c2ad5baddae128/wandb-0.10.33-py2.py3-none-any.whl (1.8MB)\n",
            "\u001b[K     |████████████████████████████████| 1.8MB 59.8MB/s \n",
            "\u001b[?25hRequirement already satisfied: tqdm in /usr/local/lib/python3.7/dist-packages (from -r requirements.txt (line 6)) (4.41.1)\n",
            "Requirement already satisfied: numpy in /usr/local/lib/python3.7/dist-packages (from -r requirements.txt (line 7)) (1.19.5)\n",
            "Requirement already satisfied: pandas in /usr/local/lib/python3.7/dist-packages (from -r requirements.txt (line 8)) (1.1.5)\n",
            "Requirement already satisfied: matplotlib in /usr/local/lib/python3.7/dist-packages (from -r requirements.txt (line 9)) (3.2.2)\n",
            "Requirement already satisfied: pyyaml in /usr/local/lib/python3.7/dist-packages (from -r requirements.txt (line 10)) (3.13)\n",
            "Collecting sacrebleu\n",
            "\u001b[?25l  Downloading https://files.pythonhosted.org/packages/7e/57/0c7ca4e31a126189dab99c19951910bd081dea5bbd25f24b77107750eae7/sacrebleu-1.5.1-py3-none-any.whl (54kB)\n",
            "\u001b[K     |████████████████████████████████| 61kB 9.2MB/s \n",
            "\u001b[?25hCollecting torchvision==0.7.0\n",
            "\u001b[?25l  Downloading https://files.pythonhosted.org/packages/4d/b5/60d5eb61f1880707a5749fea43e0ec76f27dfe69391cdec953ab5da5e676/torchvision-0.7.0-cp37-cp37m-manylinux1_x86_64.whl (5.9MB)\n",
            "\u001b[K     |████████████████████████████████| 5.9MB 105kB/s \n",
            "\u001b[?25hCollecting wget\n",
            "  Downloading https://files.pythonhosted.org/packages/47/6a/62e288da7bcda82b935ff0c6cfe542970f04e29c756b0e147251b2fb251f/wget-3.2.zip\n",
            "Requirement already satisfied: scikit-image in /usr/local/lib/python3.7/dist-packages (from language-evaluation==0.1.0->-r requirements.txt (line 12)) (0.16.2)\n",
            "Requirement already satisfied: absl-py in /usr/local/lib/python3.7/dist-packages (from language-evaluation==0.1.0->-r requirements.txt (line 12)) (0.12.0)\n",
            "Requirement already satisfied: nltk in /usr/local/lib/python3.7/dist-packages (from language-evaluation==0.1.0->-r requirements.txt (line 12)) (3.2.5)\n",
            "Requirement already satisfied: six in /usr/local/lib/python3.7/dist-packages (from language-evaluation==0.1.0->-r requirements.txt (line 12)) (1.15.0)\n",
            "Requirement already satisfied: more_itertools in /usr/local/lib/python3.7/dist-packages (from language-evaluation==0.1.0->-r requirements.txt (line 12)) (8.8.0)\n",
            "Collecting colorlog\n",
            "  Downloading https://files.pythonhosted.org/packages/32/e6/e9ddc6fa1104fda718338b341e4b3dc31cd8039ab29e52fc73b508515361/colorlog-5.0.1-py2.py3-none-any.whl\n",
            "Requirement already satisfied: future in /usr/local/lib/python3.7/dist-packages (from torch==1.6.0->-r requirements.txt (line 1)) (0.16.0)\n",
            "Collecting tokenizers==0.9.4\n",
            "\u001b[?25l  Downloading https://files.pythonhosted.org/packages/fb/36/59e4a62254c5fcb43894c6b0e9403ec6f4238cc2422a003ed2e6279a1784/tokenizers-0.9.4-cp37-cp37m-manylinux2010_x86_64.whl (2.9MB)\n",
            "\u001b[K     |████████████████████████████████| 2.9MB 67.1MB/s \n",
            "\u001b[?25hRequirement already satisfied: regex!=2019.12.17 in /usr/local/lib/python3.7/dist-packages (from transformers==4.2.1->-r requirements.txt (line 2)) (2019.12.20)\n",
            "Collecting sacremoses\n",
            "\u001b[?25l  Downloading https://files.pythonhosted.org/packages/75/ee/67241dc87f266093c533a2d4d3d69438e57d7a90abb216fa076e7d475d4a/sacremoses-0.0.45-py3-none-any.whl (895kB)\n",
            "\u001b[K     |████████████████████████████████| 901kB 65.6MB/s \n",
            "\u001b[?25hRequirement already satisfied: requests in /usr/local/lib/python3.7/dist-packages (from transformers==4.2.1->-r requirements.txt (line 2)) (2.23.0)\n",
            "Requirement already satisfied: importlib-metadata; python_version < \"3.8\" in /usr/local/lib/python3.7/dist-packages (from transformers==4.2.1->-r requirements.txt (line 2)) (4.5.0)\n",
            "Requirement already satisfied: packaging in /usr/local/lib/python3.7/dist-packages (from transformers==4.2.1->-r requirements.txt (line 2)) (20.9)\n",
            "Requirement already satisfied: filelock in /usr/local/lib/python3.7/dist-packages (from transformers==4.2.1->-r requirements.txt (line 2)) (3.0.12)\n",
            "Requirement already satisfied: cached-property; python_version < \"3.8\" in /usr/local/lib/python3.7/dist-packages (from h5py->-r requirements.txt (line 4)) (1.5.2)\n",
            "Collecting configparser>=3.8.1\n",
            "  Downloading https://files.pythonhosted.org/packages/fd/01/ff260a18caaf4457eb028c96eeb405c4a230ca06c8ec9c1379f813caa52e/configparser-5.0.2-py3-none-any.whl\n",
            "Collecting pathtools\n",
            "  Downloading https://files.pythonhosted.org/packages/e7/7f/470d6fcdf23f9f3518f6b0b76be9df16dcc8630ad409947f8be2eb0ed13a/pathtools-0.1.2.tar.gz\n",
            "Collecting shortuuid>=0.5.0\n",
            "  Downloading https://files.pythonhosted.org/packages/25/a6/2ecc1daa6a304e7f1b216f0896b26156b78e7c38e1211e9b798b4716c53d/shortuuid-1.0.1-py3-none-any.whl\n",
            "Collecting GitPython>=1.0.0\n",
            "\u001b[?25l  Downloading https://files.pythonhosted.org/packages/bc/91/b38c4fabb6e5092ab23492ded4f318ab7299b19263272b703478038c0fbc/GitPython-3.1.18-py3-none-any.whl (170kB)\n",
            "\u001b[K     |████████████████████████████████| 174kB 50.1MB/s \n",
            "\u001b[?25hRequirement already satisfied: python-dateutil>=2.6.1 in /usr/local/lib/python3.7/dist-packages (from wandb->-r requirements.txt (line 5)) (2.8.1)\n",
            "Requirement already satisfied: protobuf>=3.12.0 in /usr/local/lib/python3.7/dist-packages (from wandb->-r requirements.txt (line 5)) (3.12.4)\n",
            "Collecting sentry-sdk>=0.4.0\n",
            "\u001b[?25l  Downloading https://files.pythonhosted.org/packages/7f/9d/33fb698b92c137e26520ad27d98e21d84a4dc088e7ae683aca157469aad0/sentry_sdk-1.2.0-py2.py3-none-any.whl (133kB)\n",
            "\u001b[K     |████████████████████████████████| 133kB 53.8MB/s \n",
            "\u001b[?25hCollecting docker-pycreds>=0.4.0\n",
            "  Downloading https://files.pythonhosted.org/packages/f5/e8/f6bd1eee09314e7e6dee49cbe2c5e22314ccdb38db16c9fc72d2fa80d054/docker_pycreds-0.4.0-py2.py3-none-any.whl\n",
            "Requirement already satisfied: Click!=8.0.0,>=7.0 in /usr/local/lib/python3.7/dist-packages (from wandb->-r requirements.txt (line 5)) (7.1.2)\n",
            "Requirement already satisfied: psutil>=5.0.0 in /usr/local/lib/python3.7/dist-packages (from wandb->-r requirements.txt (line 5)) (5.4.8)\n",
            "Collecting subprocess32>=3.5.3\n",
            "\u001b[?25l  Downloading https://files.pythonhosted.org/packages/32/c8/564be4d12629b912ea431f1a50eb8b3b9d00f1a0b1ceff17f266be190007/subprocess32-3.5.4.tar.gz (97kB)\n",
            "\u001b[K     |████████████████████████████████| 102kB 12.7MB/s \n",
            "\u001b[?25hRequirement already satisfied: promise<3,>=2.0 in /usr/local/lib/python3.7/dist-packages (from wandb->-r requirements.txt (line 5)) (2.3)\n",
            "Requirement already satisfied: pytz>=2017.2 in /usr/local/lib/python3.7/dist-packages (from pandas->-r requirements.txt (line 8)) (2018.9)\n",
            "Requirement already satisfied: pyparsing!=2.0.4,!=2.1.2,!=2.1.6,>=2.0.1 in /usr/local/lib/python3.7/dist-packages (from matplotlib->-r requirements.txt (line 9)) (2.4.7)\n",
            "Requirement already satisfied: cycler>=0.10 in /usr/local/lib/python3.7/dist-packages (from matplotlib->-r requirements.txt (line 9)) (0.10.0)\n",
            "Requirement already satisfied: kiwisolver>=1.0.1 in /usr/local/lib/python3.7/dist-packages (from matplotlib->-r requirements.txt (line 9)) (1.3.1)\n",
            "Collecting portalocker==2.0.0\n",
            "  Downloading https://files.pythonhosted.org/packages/89/a6/3814b7107e0788040870e8825eebf214d72166adf656ba7d4bf14759a06a/portalocker-2.0.0-py2.py3-none-any.whl\n",
            "Requirement already satisfied: pillow>=4.1.1 in /usr/local/lib/python3.7/dist-packages (from torchvision==0.7.0->-r requirements.txt (line 13)) (7.1.2)\n",
            "Requirement already satisfied: PyWavelets>=0.4.0 in /usr/local/lib/python3.7/dist-packages (from scikit-image->language-evaluation==0.1.0->-r requirements.txt (line 12)) (1.1.1)\n",
            "Requirement already satisfied: imageio>=2.3.0 in /usr/local/lib/python3.7/dist-packages (from scikit-image->language-evaluation==0.1.0->-r requirements.txt (line 12)) (2.4.1)\n",
            "Requirement already satisfied: networkx>=2.0 in /usr/local/lib/python3.7/dist-packages (from scikit-image->language-evaluation==0.1.0->-r requirements.txt (line 12)) (2.5.1)\n",
            "Requirement already satisfied: scipy>=0.19.0 in /usr/local/lib/python3.7/dist-packages (from scikit-image->language-evaluation==0.1.0->-r requirements.txt (line 12)) (1.4.1)\n",
            "Requirement already satisfied: joblib in /usr/local/lib/python3.7/dist-packages (from sacremoses->transformers==4.2.1->-r requirements.txt (line 2)) (1.0.1)\n",
            "Requirement already satisfied: idna<3,>=2.5 in /usr/local/lib/python3.7/dist-packages (from requests->transformers==4.2.1->-r requirements.txt (line 2)) (2.10)\n",
            "Requirement already satisfied: chardet<4,>=3.0.2 in /usr/local/lib/python3.7/dist-packages (from requests->transformers==4.2.1->-r requirements.txt (line 2)) (3.0.4)\n",
            "Requirement already satisfied: certifi>=2017.4.17 in /usr/local/lib/python3.7/dist-packages (from requests->transformers==4.2.1->-r requirements.txt (line 2)) (2021.5.30)\n",
            "Requirement already satisfied: urllib3!=1.25.0,!=1.25.1,<1.26,>=1.21.1 in /usr/local/lib/python3.7/dist-packages (from requests->transformers==4.2.1->-r requirements.txt (line 2)) (1.24.3)\n",
            "Requirement already satisfied: zipp>=0.5 in /usr/local/lib/python3.7/dist-packages (from importlib-metadata; python_version < \"3.8\"->transformers==4.2.1->-r requirements.txt (line 2)) (3.4.1)\n",
            "Requirement already satisfied: typing-extensions>=3.6.4; python_version < \"3.8\" in /usr/local/lib/python3.7/dist-packages (from importlib-metadata; python_version < \"3.8\"->transformers==4.2.1->-r requirements.txt (line 2)) (3.7.4.3)\n",
            "Collecting gitdb<5,>=4.0.1\n",
            "\u001b[?25l  Downloading https://files.pythonhosted.org/packages/ea/e8/f414d1a4f0bbc668ed441f74f44c116d9816833a48bf81d22b697090dba8/gitdb-4.0.7-py3-none-any.whl (63kB)\n",
            "\u001b[K     |████████████████████████████████| 71kB 12.3MB/s \n",
            "\u001b[?25hRequirement already satisfied: setuptools in /usr/local/lib/python3.7/dist-packages (from protobuf>=3.12.0->wandb->-r requirements.txt (line 5)) (57.0.0)\n",
            "Requirement already satisfied: decorator<5,>=4.3 in /usr/local/lib/python3.7/dist-packages (from networkx>=2.0->scikit-image->language-evaluation==0.1.0->-r requirements.txt (line 12)) (4.4.2)\n",
            "Collecting smmap<5,>=3.0.1\n",
            "  Downloading https://files.pythonhosted.org/packages/68/ee/d540eb5e5996eb81c26ceffac6ee49041d473bc5125f2aa995cf51ec1cf1/smmap-4.0.0-py2.py3-none-any.whl\n",
            "Building wheels for collected packages: wget, language-evaluation, pathtools, subprocess32\n",
            "  Building wheel for wget (setup.py) ... \u001b[?25l\u001b[?25hdone\n",
            "  Created wheel for wget: filename=wget-3.2-cp37-none-any.whl size=9675 sha256=7501586ee3f9296ddbfdf9773834615b3bbaca0883c653c2402b3a3360fc8abf\n",
            "  Stored in directory: /root/.cache/pip/wheels/40/15/30/7d8f7cea2902b4db79e3fea550d7d7b85ecb27ef992b618f3f\n",
            "  Building wheel for language-evaluation (setup.py) ... \u001b[?25l\u001b[?25hdone\n",
            "  Created wheel for language-evaluation: filename=language_evaluation-0.1.0-cp37-none-any.whl size=42700526 sha256=f08ce39f91496816005d0a6c0a5c2aa20c538bb2b348364b7ff066f69fcd4268\n",
            "  Stored in directory: /tmp/pip-ephem-wheel-cache-878sy22v/wheels/e9/53/a9/6ee4566ee6fb944e0eb46cd241ca647080bd182d7e0571707f\n",
            "  Building wheel for pathtools (setup.py) ... \u001b[?25l\u001b[?25hdone\n",
            "  Created wheel for pathtools: filename=pathtools-0.1.2-cp37-none-any.whl size=8807 sha256=111e8a662e0f4f988a4270ce75cfc2612318d1708b438b77bd0ffed9ebdf91e4\n",
            "  Stored in directory: /root/.cache/pip/wheels/0b/04/79/c3b0c3a0266a3cb4376da31e5bfe8bba0c489246968a68e843\n",
            "  Building wheel for subprocess32 (setup.py) ... \u001b[?25l\u001b[?25hdone\n",
            "  Created wheel for subprocess32: filename=subprocess32-3.5.4-cp37-none-any.whl size=6502 sha256=d65cbec07e6124a67973613f55393d5748ab86e41a7df98de8c5ec2eb1955b68\n",
            "  Stored in directory: /root/.cache/pip/wheels/68/39/1a/5e402bdfdf004af1786c8b853fd92f8c4a04f22aad179654d1\n",
            "Successfully built wget language-evaluation pathtools subprocess32\n",
            "\u001b[31mERROR: torchtext 0.10.0 has requirement torch==1.9.0, but you'll have torch 1.6.0 which is incompatible.\u001b[0m\n",
            "Installing collected packages: torch, tokenizers, sacremoses, transformers, sentencepiece, configparser, pathtools, shortuuid, smmap, gitdb, GitPython, sentry-sdk, docker-pycreds, subprocess32, wandb, portalocker, sacrebleu, torchvision, wget, colorlog, language-evaluation\n",
            "  Found existing installation: torch 1.9.0+cu102\n",
            "    Uninstalling torch-1.9.0+cu102:\n",
            "      Successfully uninstalled torch-1.9.0+cu102\n",
            "  Found existing installation: torchvision 0.10.0+cu102\n",
            "    Uninstalling torchvision-0.10.0+cu102:\n",
            "      Successfully uninstalled torchvision-0.10.0+cu102\n",
            "Successfully installed GitPython-3.1.18 colorlog-5.0.1 configparser-5.0.2 docker-pycreds-0.4.0 gitdb-4.0.7 language-evaluation-0.1.0 pathtools-0.1.2 portalocker-2.0.0 sacrebleu-1.5.1 sacremoses-0.0.45 sentencepiece-0.1.96 sentry-sdk-1.2.0 shortuuid-1.0.1 smmap-4.0.0 subprocess32-3.5.4 tokenizers-0.9.4 torch-1.6.0 torchvision-0.7.0 transformers-4.2.1 wandb-0.10.33 wget-3.2\n",
            "Downloading checkpoints if not cached\n",
            "T5-base\n",
            "Downloading: 100% 1.20k/1.20k [00:00<00:00, 1.08MB/s]\n",
            "Downloading: 100% 892M/892M [00:13<00:00, 65.0MB/s]\n",
            "Downloading: 100% 792k/792k [00:00<00:00, 1.44MB/s]\n",
            "BART-base\n",
            "Downloading: 100% 899k/899k [00:00<00:00, 1.64MB/s]\n",
            "Downloading: 100% 456k/456k [00:00<00:00, 1.23MB/s]\n",
            "Downloading: 100% 1.63k/1.63k [00:00<00:00, 1.26MB/s]\n",
            "Downloading: 100% 558M/558M [00:08<00:00, 66.2MB/s]\n",
            "Done!\n"
          ],
          "name": "stdout"
        }
      ]
    },
    {
      "cell_type": "markdown",
      "metadata": {
        "id": "rn6U2qubdMec"
      },
      "source": [
        "# Download the pretrained checkpoint"
      ]
    },
    {
      "cell_type": "code",
      "metadata": {
        "id": "SlzkwKiAUF8F"
      },
      "source": [
        "import gdown"
      ],
      "execution_count": 4,
      "outputs": []
    },
    {
      "cell_type": "code",
      "metadata": {
        "id": "WJXXv19rVBSr"
      },
      "source": [
        "!mkdir -p VL-T5/snap/pretrain/VLT5"
      ],
      "execution_count": 5,
      "outputs": []
    },
    {
      "cell_type": "code",
      "metadata": {
        "colab": {
          "base_uri": "https://localhost:8080/",
          "height": 103
        },
        "id": "8SH0SgPyVC3Q",
        "outputId": "1ba609f7-367b-4d60-b57a-c2fb0cde348d"
      },
      "source": [
        "gdown.download('https://drive.google.com/uc?id=100qajGncE_vc4bfjVxxICwz3dwiAxbIZ', 'VL-T5/snap/pretrain/VLT5/Epoch30.pth', quiet=False)"
      ],
      "execution_count": 6,
      "outputs": [
        {
          "output_type": "stream",
          "text": [
            "Downloading...\n",
            "From: https://drive.google.com/uc?id=100qajGncE_vc4bfjVxxICwz3dwiAxbIZ\n",
            "To: /content/VL-T5/VL-T5/snap/pretrain/VLT5/Epoch30.pth\n",
            "898MB [00:12, 70.5MB/s]\n"
          ],
          "name": "stderr"
        },
        {
          "output_type": "execute_result",
          "data": {
            "application/vnd.google.colaboratory.intrinsic+json": {
              "type": "string"
            },
            "text/plain": [
              "'VL-T5/snap/pretrain/VLT5/Epoch30.pth'"
            ]
          },
          "metadata": {
            "tags": []
          },
          "execution_count": 6
        }
      ]
    },
    {
      "cell_type": "markdown",
      "metadata": {
        "id": "xIgD6C30dPaK"
      },
      "source": [
        "# Add source code path"
      ]
    },
    {
      "cell_type": "code",
      "metadata": {
        "id": "2twMMbnbVRXi"
      },
      "source": [
        "import sys"
      ],
      "execution_count": 7,
      "outputs": []
    },
    {
      "cell_type": "code",
      "metadata": {
        "id": "bX8qQ0VTVWsf"
      },
      "source": [
        "sys.path.append('/content/VL-T5/VL-T5/src') \n",
        "sys.path.append('/content/VL-T5/VL-T5/inference') "
      ],
      "execution_count": 8,
      "outputs": []
    },
    {
      "cell_type": "code",
      "metadata": {
        "colab": {
          "base_uri": "https://localhost:8080/"
        },
        "id": "pmQFeovtVc0q",
        "outputId": "154f7178-75e4-4d9f-f84d-5205c749df21"
      },
      "source": [
        "cd VL-T5"
      ],
      "execution_count": 9,
      "outputs": [
        {
          "output_type": "stream",
          "text": [
            "/content/VL-T5/VL-T5\n"
          ],
          "name": "stdout"
        }
      ]
    },
    {
      "cell_type": "markdown",
      "metadata": {
        "id": "oDHiJn1mdSeE"
      },
      "source": [
        "# Build a model and load weights from the pretrained checkpoint"
      ]
    },
    {
      "cell_type": "code",
      "metadata": {
        "colab": {
          "base_uri": "https://localhost:8080/"
        },
        "id": "-cml3n4ZVeA-",
        "outputId": "eafd512a-e401-45f0-8674-3e002a2dc29c"
      },
      "source": [
        "!pip uninstall param -y"
      ],
      "execution_count": 10,
      "outputs": [
        {
          "output_type": "stream",
          "text": [
            "\u001b[33mWARNING: Skipping param as it is not installed.\u001b[0m\n"
          ],
          "name": "stdout"
        }
      ]
    },
    {
      "cell_type": "code",
      "metadata": {
        "id": "-iRkaR4wVf17"
      },
      "source": [
        "from param import parse_args"
      ],
      "execution_count": 11,
      "outputs": []
    },
    {
      "cell_type": "code",
      "metadata": {
        "id": "ub0hir5PVhvS"
      },
      "source": [
        "args = parse_args(\n",
        "    parse=False, \n",
        "    backbone='t5-base', \n",
        "    load='snap/pretrain/VLT5/Epoch30'\n",
        ")\n",
        "args.gpu = 0 "
      ],
      "execution_count": 12,
      "outputs": []
    },
    {
      "cell_type": "code",
      "metadata": {
        "id": "XvoQfdEiVoS1"
      },
      "source": [
        "from vqa import Trainer"
      ],
      "execution_count": 13,
      "outputs": []
    },
    {
      "cell_type": "code",
      "metadata": {
        "colab": {
          "base_uri": "https://localhost:8080/"
        },
        "id": "XJ5NEH_iVpOP",
        "outputId": "ec7095af-79b3-48c2-f056-683d6936dd2d"
      },
      "source": [
        "trainer = Trainer(args, train=False) "
      ],
      "execution_count": 49,
      "outputs": [
        {
          "output_type": "stream",
          "text": [
            "Building Model at GPU 0\n"
          ],
          "name": "stdout"
        },
        {
          "output_type": "stream",
          "text": [
            "Some weights of VLT5VQA were not initialized from the model checkpoint at t5-base and are newly initialized: ['encoder.visual_embedding.feat_embedding.0.weight', 'encoder.visual_embedding.feat_embedding.0.bias', 'encoder.visual_embedding.feat_embedding.1.weight', 'encoder.visual_embedding.absolute_vis_pos_embedding.0.weight', 'encoder.visual_embedding.absolute_vis_pos_embedding.0.bias', 'encoder.visual_embedding.absolute_vis_pos_embedding.1.weight', 'encoder.visual_embedding.obj_order_embedding.weight', 'encoder.visual_embedding.img_order_embedding.weight']\n",
            "You should probably TRAIN this model on a down-stream task to be able to use it for predictions and inference.\n"
          ],
          "name": "stderr"
        },
        {
          "output_type": "stream",
          "text": [
            "Model loaded from  snap/pretrain/VLT5/Epoch30.pth\n",
            "_IncompatibleKeys(missing_keys=[], unexpected_keys=['encoder.visual_embedding.layer_norm.weight'])\n",
            "Model Launching at GPU 0\n",
            "It took 0.4s\n"
          ],
          "name": "stdout"
        }
      ]
    },
    {
      "cell_type": "markdown",
      "metadata": {
        "id": "01lm41v5WVlF"
      },
      "source": [
        "# Faster R-CNN inference"
      ]
    },
    {
      "cell_type": "code",
      "metadata": {
        "id": "asPOaXL0VrYK"
      },
      "source": [
        "from IPython.display import clear_output, Image, display\n",
        "import PIL.Image \n",
        "import io \n",
        "import json \n",
        "import torch \n",
        "import numpy as np \n",
        "from inference.processing_image import Preprocess \n",
        "from inference.visualizing_image import SingleImageViz  \n",
        "from inference.modeling_frcnn import GeneralizedRCNN \n",
        "from inference.utils import Config, get_data \n",
        "\n",
        "import wget \n",
        "import pickle\n",
        "import os\n",
        "import cv2"
      ],
      "execution_count": 25,
      "outputs": []
    },
    {
      "cell_type": "code",
      "metadata": {
        "colab": {
          "base_uri": "https://localhost:8080/",
          "height": 271,
          "referenced_widgets": [
            "5b326a0d10ec4a909f8d361b924a89da",
            "8d7579cafd364a7aabba77a3a55b0a81",
            "babd093c378249e8b216430d6c2195e5",
            "883cb447b61942d8a2b11ed799835058",
            "a54205c30ec3425c9384ae432b9bbe80",
            "a51c90d4efcf43259fcaeed02248835d",
            "f1f390196da94f73a556d5cc1498e51a",
            "4b2707660ced451eb6962d3509fd9791",
            "a9b40fc015f3481dadd694afcd7c3dd3",
            "cbf3c30132da438fb27341b6af3b84d2",
            "213d4d01e5884088acdd2c27bb88f506",
            "a55bffd23811405699f836f3a4e726a7",
            "6b68088cbc404ceda2fcb83f4a64add5",
            "05d1ee445efe4a1e825b4818744151cd",
            "93681428dd8a401ab70902fe558a02f3",
            "a4640e15a66e4126bf1a53a47276dfd2"
          ]
        },
        "id": "8vpif4olabbb",
        "outputId": "bfdb1c77-ff1b-4abc-c86f-4b7480972c7d"
      },
      "source": [
        "OBJ_URL = \"https://raw.githubusercontent.com/airsplay/py-bottom-up-attention/master/demo/data/genome/1600-400-20/objects_vocab.txt\"\n",
        "ATTR_URL = \"https://raw.githubusercontent.com/airsplay/py-bottom-up-attention/master/demo/data/genome/1600-400-20/attributes_vocab.txt\"\n",
        "GQA_URL = \"https://raw.githubusercontent.com/airsplay/lxmert/master/data/gqa/trainval_label2ans.json\"\n",
        "VQA_URL = \"https://raw.githubusercontent.com/airsplay/lxmert/master/data/vqa/trainval_label2ans.json\"\n",
        "\n",
        "objids = get_data(OBJ_URL) \n",
        "attrids = get_data(ATTR_URL)\n",
        "gqa_answers = get_data(GQA_URL) \n",
        "vqa_answers = get_data(VQA_URL) \n",
        "frcnn_cfg = Config.from_pretrained(\"unc-nlp/frcnn-vg-finetuned\")\n",
        "frcnn = GeneralizedRCNN.from_pretrained(\"unc-nlp/frcnn-vg-finetuned\", config=frcnn_cfg) \n",
        "image_preprocess = Preprocess(frcnn_cfg) \n",
        "\n",
        "# for visualizing output\n",
        "def showarray(a, fmt='jpeg'):\n",
        "    a = np.uint8(np.clip(a, 0, 255))\n",
        "    f = io.BytesIO()\n",
        "    PIL.Image.fromarray(a).save(f, fmt)\n",
        "    display(Image(data=f.getvalue()))"
      ],
      "execution_count": 18,
      "outputs": [
        {
          "output_type": "stream",
          "text": [
            "%s not found in cache or force_download set to True, downloading to %s https://s3.amazonaws.com/models.huggingface.co/bert/unc-nlp/frcnn-vg-finetuned/config.yaml /root/.cache/torch/transformers/tmpykcxrqol\n"
          ],
          "name": "stdout"
        },
        {
          "output_type": "display_data",
          "data": {
            "application/vnd.jupyter.widget-view+json": {
              "model_id": "5b326a0d10ec4a909f8d361b924a89da",
              "version_minor": 0,
              "version_major": 2
            },
            "text/plain": [
              "HBox(children=(FloatProgress(value=0.0, description='Downloading', max=2132.0, style=ProgressStyle(description…"
            ]
          },
          "metadata": {
            "tags": []
          }
        },
        {
          "output_type": "stream",
          "text": [
            "\n",
            "loading configuration file cache\n",
            "%s not found in cache or force_download set to True, downloading to %s https://cdn.huggingface.co/unc-nlp/frcnn-vg-finetuned/pytorch_model.bin /root/.cache/torch/transformers/tmpjastl0h6\n"
          ],
          "name": "stdout"
        },
        {
          "output_type": "display_data",
          "data": {
            "application/vnd.jupyter.widget-view+json": {
              "model_id": "a9b40fc015f3481dadd694afcd7c3dd3",
              "version_minor": 0,
              "version_major": 2
            },
            "text/plain": [
              "HBox(children=(FloatProgress(value=0.0, description='Downloading', max=262398754.0, style=ProgressStyle(descri…"
            ]
          },
          "metadata": {
            "tags": []
          }
        },
        {
          "output_type": "stream",
          "text": [
            "\n",
            "loading weights file https://cdn.huggingface.co/unc-nlp/frcnn-vg-finetuned/pytorch_model.bin from cache at /root/.cache/torch/transformers/57f6df6abe353be2773f2700159c65615babf39ab5b48114d2b49267672ae10f.77b59256a4cf8343ae0f923246a81489fc8d82f98d082edc2d2037c977c0d9d0\n",
            "All model checkpoint weights were used when initializing GeneralizedRCNN.\n",
            "\n",
            "All the weights of GeneralizedRCNN were initialized from the model checkpoint at unc-nlp/frcnn-vg-finetuned.\n",
            "If your task is similar to the task the model of the checkpoint was trained on, you can already use GeneralizedRCNN for predictions without further training.\n"
          ],
          "name": "stdout"
        }
      ]
    },
    {
      "cell_type": "code",
      "metadata": {
        "colab": {
          "base_uri": "https://localhost:8080/",
          "height": 35
        },
        "id": "PsSptBRTc2ix",
        "outputId": "0349dce3-9395-4cbe-9c23-b3dd8751f2c8"
      },
      "source": [
        "pwd"
      ],
      "execution_count": 19,
      "outputs": [
        {
          "output_type": "execute_result",
          "data": {
            "application/vnd.google.colaboratory.intrinsic+json": {
              "type": "string"
            },
            "text/plain": [
              "'/content/VL-T5/VL-T5'"
            ]
          },
          "metadata": {
            "tags": []
          },
          "execution_count": 19
        }
      ]
    },
    {
      "cell_type": "code",
      "metadata": {
        "colab": {
          "base_uri": "https://localhost:8080/"
        },
        "id": "Wcl5CCgqdakr",
        "outputId": "2040ffb6-3a00-4085-fe77-d60c62c51827"
      },
      "source": [
        "ls"
      ],
      "execution_count": 45,
      "outputs": [
        {
          "output_type": "stream",
          "text": [
            "bananas.jpeg  running_men.jpeg  \u001b[0m\u001b[01;34msnap\u001b[0m/  stop_sign.jpeg\n",
            "\u001b[01;34minference\u001b[0m/    \u001b[01;34mscripts\u001b[0m/          \u001b[01;34msrc\u001b[0m/   to_new_york.jpeg\n"
          ],
          "name": "stdout"
        }
      ]
    },
    {
      "cell_type": "markdown",
      "metadata": {
        "id": "Tof68hCaeo68"
      },
      "source": [
        "# Infernece Example 1"
      ]
    },
    {
      "cell_type": "code",
      "metadata": {
        "colab": {
          "base_uri": "https://localhost:8080/",
          "height": 548
        },
        "id": "y77CYsgHgHoZ",
        "outputId": "d1e1c964-a65a-492c-8b4e-34177cc021d9"
      },
      "source": [
        "image = PIL.Image.open('to_new_york.jpeg') \n",
        "\n",
        "image"
      ],
      "execution_count": 42,
      "outputs": [
        {
          "output_type": "execute_result",
          "data": {
            "image/png": "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
            "text/plain": [
              "<PIL.PngImagePlugin.PngImageFile image mode=RGBA size=782x576 at 0x7F298C6A2810>"
            ]
          },
          "metadata": {
            "tags": []
          },
          "execution_count": 42
        }
      ]
    },
    {
      "cell_type": "code",
      "metadata": {
        "colab": {
          "base_uri": "https://localhost:8080/",
          "height": 548
        },
        "id": "3GJstyrsfwGY",
        "outputId": "4952d7c9-b2e8-4f34-a228-2f8c2872886c"
      },
      "source": [
        "image_dirname = 'to_new_york.jpeg' \n",
        "\n",
        "frcnn_visualizer = SingleImageViz(image_dirname, id2obj=objids, id2attr=attrids) \n",
        "\n",
        "images, sizes, scales_yx = image_preprocess(image_dirname)\n",
        "\n",
        "output_dict = frcnn(\n",
        "    images, \n",
        "    sizes, \n",
        "    scales_yx = scales_yx, \n",
        "    padding = 'max_detections', \n",
        "    max_detections = frcnn_cfg.max_detections, \n",
        "    return_tensors = 'pt'\n",
        ")\n",
        "\n",
        "# add boxes and labels to the image\n",
        "\n",
        "frcnn_visualizer.draw_boxes(\n",
        "    output_dict.get(\"boxes\"),\n",
        "    output_dict.pop(\"obj_ids\"),\n",
        "    output_dict.pop(\"obj_probs\"),\n",
        "    output_dict.pop(\"attr_ids\"),\n",
        "    output_dict.pop(\"attr_probs\"),\n",
        ")\n",
        "showarray(frcnn_visualizer._get_buffer()) "
      ],
      "execution_count": 41,
      "outputs": [
        {
          "output_type": "display_data",
          "data": {
            "image/jpeg": "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
            "text/plain": [
              "<IPython.core.display.Image object>"
            ]
          },
          "metadata": {
            "tags": []
          }
        }
      ]
    },
    {
      "cell_type": "code",
      "metadata": {
        "id": "4Z0IncrEgYia"
      },
      "source": [
        "normalized_boxes = output_dict.get(\"normalized_boxes\") \n",
        "features = output_dict.get(\"roi_features\")"
      ],
      "execution_count": 46,
      "outputs": []
    },
    {
      "cell_type": "code",
      "metadata": {
        "id": "vPJCl-GJexOt"
      },
      "source": [
        "## load tokenizer \n",
        "from tokenization import VLT5Tokenizer \n",
        "\n",
        "tokenizer = VLT5Tokenizer.from_pretrained(\"t5-base\")"
      ],
      "execution_count": 50,
      "outputs": []
    },
    {
      "cell_type": "code",
      "metadata": {
        "colab": {
          "base_uri": "https://localhost:8080/"
        },
        "id": "tQQWW8D-gg-a",
        "outputId": "408c8927-3a8f-4773-c12f-928e149c92cd"
      },
      "source": [
        "questions = ['vqa: Where is the train headed?', \n",
        "             'vqa: What public transportation is in the picture?',\n",
        "             'vqa: How many trains are there?', \n",
        "             'vqa: Which track is the train on?'] \n",
        "\n",
        "for question in questions: \n",
        "  input_ids = tokenizer(question, return_tensors = 'pt', padding=True).input_ids \n",
        "  batch = {} \n",
        "  batch['input_ids'] = input_ids \n",
        "  batch['vis_feats'] = features \n",
        "  batch['boxes'] = normalized_boxes \n",
        "  result = trainer.model.test_step(batch) \n",
        "  print(\"Q: {}\".format(question)) \n",
        "  print(\"A: {}\".format(result['pred_ans'][0]))  "
      ],
      "execution_count": 51,
      "outputs": [
        {
          "output_type": "stream",
          "text": [
            "Q: vqa: Where is the train headed?\n",
            "A: north\n",
            "Q: vqa: What public transportation is in the picture?\n",
            "A: train\n",
            "Q: vqa: How many trains are there?\n",
            "A: 1\n",
            "Q: vqa: Which track is the train on?\n",
            "A: right\n"
          ],
          "name": "stdout"
        }
      ]
    },
    {
      "cell_type": "markdown",
      "metadata": {
        "id": "TP0Q9Ui1j5Ev"
      },
      "source": [
        "# Inference Example 2"
      ]
    },
    {
      "cell_type": "code",
      "metadata": {
        "colab": {
          "base_uri": "https://localhost:8080/",
          "height": 979
        },
        "id": "tgiALgPzipsl",
        "outputId": "46db6014-db09-44a1-9fac-3fa71f5365d7"
      },
      "source": [
        "image = PIL.Image.open('luke_benjamin.jpeg') \n",
        "\n",
        "image"
      ],
      "execution_count": 58,
      "outputs": [
        {
          "output_type": "execute_result",
          "data": {
            "image/png": "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
            "text/plain": [
              "<PIL.PngImagePlugin.PngImageFile image mode=RGBA size=974x1300 at 0x7F28ECA61E10>"
            ]
          },
          "metadata": {
            "tags": []
          },
          "execution_count": 58
        }
      ]
    },
    {
      "cell_type": "code",
      "metadata": {
        "colab": {
          "base_uri": "https://localhost:8080/",
          "height": 1000
        },
        "id": "zuUFYJZ_kxsp",
        "outputId": "7a636b8c-38d9-4df2-a5f4-2e3acd512d0f"
      },
      "source": [
        "image_dirname = 'luke_benjamin.jpeg' \n",
        "\n",
        "frcnn_visualizer = SingleImageViz(image_dirname, id2obj=objids, id2attr=attrids) \n",
        "\n",
        "images, sizes, scales_yx = image_preprocess(image_dirname)\n",
        "\n",
        "output_dict = frcnn(\n",
        "    images, \n",
        "    sizes, \n",
        "    scales_yx = scales_yx, \n",
        "    padding = 'max_detections', \n",
        "    max_detections = frcnn_cfg.max_detections, \n",
        "    return_tensors = 'pt'\n",
        ")\n",
        "\n",
        "# add boxes and labels to the image\n",
        "\n",
        "frcnn_visualizer.draw_boxes(\n",
        "    output_dict.get(\"boxes\"),\n",
        "    output_dict.pop(\"obj_ids\"),\n",
        "    output_dict.pop(\"obj_probs\"),\n",
        "    output_dict.pop(\"attr_ids\"),\n",
        "    output_dict.pop(\"attr_probs\"),\n",
        ")\n",
        "showarray(frcnn_visualizer._get_buffer()) "
      ],
      "execution_count": 59,
      "outputs": [
        {
          "output_type": "display_data",
          "data": {
            "image/jpeg": "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
            "text/plain": [
              "<IPython.core.display.Image object>"
            ]
          },
          "metadata": {
            "tags": []
          }
        }
      ]
    },
    {
      "cell_type": "code",
      "metadata": {
        "id": "L1H7JhVnk1iM"
      },
      "source": [
        "normalized_boxes = output_dict.get(\"normalized_boxes\") \n",
        "features = output_dict.get(\"roi_features\")"
      ],
      "execution_count": 60,
      "outputs": []
    },
    {
      "cell_type": "code",
      "metadata": {
        "id": "z47U-Iank3TE"
      },
      "source": [
        "## load tokenizer \n",
        "from tokenization import VLT5Tokenizer \n",
        "\n",
        "tokenizer = VLT5Tokenizer.from_pretrained(\"t5-base\") "
      ],
      "execution_count": 61,
      "outputs": []
    },
    {
      "cell_type": "code",
      "metadata": {
        "colab": {
          "base_uri": "https://localhost:8080/"
        },
        "id": "Lw5pKjubk_3c",
        "outputId": "8afd0b82-ffa6-4428-971b-200e12bafb34"
      },
      "source": [
        "questions = ['vqa: How many people are there?', \n",
        "             'vqa: Which person is taller?', \n",
        "             'vqa: Which person is shorter?',\n",
        "             'vqa: Are they wearing a mask?', \n",
        "             'vqa: Are they not wearing a mask?'] \n",
        "\n",
        "for question in questions: \n",
        "  input_ids = tokenizer(question, return_tensors = 'pt', padding=True).input_ids \n",
        "  batch = {} \n",
        "  batch['input_ids'] = input_ids \n",
        "  batch['vis_feats'] = features \n",
        "  batch['boxes'] = normalized_boxes \n",
        "  result = trainer.model.test_step(batch) \n",
        "  print(\"Q: {}\".format(question)) \n",
        "  print(\"A: {}\".format(result['pred_ans'][0]))  "
      ],
      "execution_count": 68,
      "outputs": [
        {
          "output_type": "stream",
          "text": [
            "Q: vqa: How many people are there?\n",
            "A: 2\n",
            "Q: vqa: Which person is taller?\n",
            "A: right\n",
            "Q: vqa: Which person is shorter?\n",
            "A: left\n",
            "Q: vqa: Are they wearing a mask?\n",
            "A: yes\n",
            "Q: vqa: Are they not wearing a mask?\n",
            "A: no\n"
          ],
          "name": "stdout"
        }
      ]
    },
    {
      "cell_type": "markdown",
      "metadata": {
        "id": "tStRWUzumfoi"
      },
      "source": [
        "# Inference Example 3"
      ]
    },
    {
      "cell_type": "code",
      "metadata": {
        "colab": {
          "base_uri": "https://localhost:8080/",
          "height": 467
        },
        "id": "flJ4HnSKm6DA",
        "outputId": "c9e8bcc6-5149-4688-83c4-17943ae41a5c"
      },
      "source": [
        "image_dirname = 'https://raw.githubusercontent.com/airsplay/py-bottom-up-attention/master/demo/data/images/001763.jpg'  \n",
        "\n",
        "frcnn_visualizer = SingleImageViz(image_dirname, id2obj=objids, id2attr=attrids)  \n",
        "\n",
        "images, sizes, scales_yx = image_preprocess(image_dirname)\n",
        "\n",
        "output_dict = frcnn(\n",
        "    images, \n",
        "    sizes, \n",
        "    scales_yx = scales_yx, \n",
        "    padding = 'max_detections', \n",
        "    max_detections = frcnn_cfg.max_detections, \n",
        "    return_tensors = 'pt'\n",
        ")\n",
        "\n",
        "# add boxes and labels to the image\n",
        "\n",
        "frcnn_visualizer.draw_boxes(\n",
        "    output_dict.get(\"boxes\"),\n",
        "    output_dict.pop(\"obj_ids\"),\n",
        "    output_dict.pop(\"obj_probs\"),\n",
        "    output_dict.pop(\"attr_ids\"),\n",
        "    output_dict.pop(\"attr_probs\"),\n",
        ")\n",
        "showarray(frcnn_visualizer._get_buffer()) "
      ],
      "execution_count": 96,
      "outputs": [
        {
          "output_type": "display_data",
          "data": {
            "image/jpeg": "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
            "text/plain": [
              "<IPython.core.display.Image object>"
            ]
          },
          "metadata": {
            "tags": []
          }
        }
      ]
    },
    {
      "cell_type": "code",
      "metadata": {
        "id": "2O83_-VBm_ZN"
      },
      "source": [
        "normalized_boxes = output_dict.get(\"normalized_boxes\") \n",
        "features = output_dict.get(\"roi_features\")"
      ],
      "execution_count": 97,
      "outputs": []
    },
    {
      "cell_type": "code",
      "metadata": {
        "id": "fy5wGsqvnEAh"
      },
      "source": [
        "## load tokenizer \n",
        "from tokenization import VLT5Tokenizer \n",
        "\n",
        "tokenizer = VLT5Tokenizer.from_pretrained(\"t5-base\") "
      ],
      "execution_count": 98,
      "outputs": []
    },
    {
      "cell_type": "code",
      "metadata": {
        "colab": {
          "base_uri": "https://localhost:8080/"
        },
        "id": "m8S-d8OLnP9b",
        "outputId": "d90e75c7-09d3-4acc-9f7f-865bac9e7597"
      },
      "source": [
        "questions = ['vqa: How many animals are in the picture?', \n",
        "             'vqa: How many dogs are there?', \n",
        "             'vqa: What is the animal on the left?',\n",
        "             'vqa: What color is the sofa?'] \n",
        "\n",
        "for question in questions: \n",
        "  input_ids = tokenizer(question, return_tensors = 'pt', padding=True).input_ids \n",
        "  batch = {} \n",
        "  batch['input_ids'] = input_ids \n",
        "  batch['vis_feats'] = features \n",
        "  batch['boxes'] = normalized_boxes \n",
        "  result = trainer.model.test_step(batch) \n",
        "  print(\"Q: {}\".format(question)) \n",
        "  print(\"A: {}\".format(result['pred_ans'][0]))  "
      ],
      "execution_count": 101,
      "outputs": [
        {
          "output_type": "stream",
          "text": [
            "Q: vqa: How many animals are in the picture?\n",
            "A: 2\n",
            "Q: vqa: How many dogs are there?\n",
            "A: 1\n",
            "Q: vqa: What is the animal on the left?\n",
            "A: dog\n",
            "Q: vqa: What color is the sofa?\n",
            "A: red\n"
          ],
          "name": "stdout"
        }
      ]
    },
    {
      "cell_type": "markdown",
      "metadata": {
        "id": "EHj9ckc9u0je"
      },
      "source": [
        "# Inference Example 4"
      ]
    },
    {
      "cell_type": "code",
      "metadata": {
        "colab": {
          "base_uri": "https://localhost:8080/",
          "height": 542
        },
        "id": "9_P6e0cenbNI",
        "outputId": "ca2bdf09-157b-4cbe-bd6f-dd836739e940"
      },
      "source": [
        "image_dirname = 'https://raw.githubusercontent.com/airsplay/py-bottom-up-attention/master/demo/data/images/COCO_train2014_000000201446.jpg'  \n",
        "\n",
        "frcnn_visualizer = SingleImageViz(image_dirname, id2obj=objids, id2attr=attrids)  \n",
        "\n",
        "images, sizes, scales_yx = image_preprocess(image_dirname)\n",
        "\n",
        "output_dict = frcnn(\n",
        "    images, \n",
        "    sizes, \n",
        "    scales_yx = scales_yx, \n",
        "    padding = 'max_detections', \n",
        "    max_detections = frcnn_cfg.max_detections, \n",
        "    return_tensors = 'pt'\n",
        ")\n",
        "\n",
        "# add boxes and labels to the image\n",
        "\n",
        "frcnn_visualizer.draw_boxes(\n",
        "    output_dict.get(\"boxes\"),\n",
        "    output_dict.pop(\"obj_ids\"),\n",
        "    output_dict.pop(\"obj_probs\"),\n",
        "    output_dict.pop(\"attr_ids\"),\n",
        "    output_dict.pop(\"attr_probs\"),\n",
        ")\n",
        "showarray(frcnn_visualizer._get_buffer()) "
      ],
      "execution_count": 102,
      "outputs": [
        {
          "output_type": "display_data",
          "data": {
            "image/jpeg": "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
            "text/plain": [
              "<IPython.core.display.Image object>"
            ]
          },
          "metadata": {
            "tags": []
          }
        }
      ]
    },
    {
      "cell_type": "code",
      "metadata": {
        "id": "aIIfWBBju8h5"
      },
      "source": [
        "normalized_boxes = output_dict.get(\"normalized_boxes\") \n",
        "features = output_dict.get(\"roi_features\")"
      ],
      "execution_count": 103,
      "outputs": []
    },
    {
      "cell_type": "code",
      "metadata": {
        "id": "AuPHXPPuu-Gv"
      },
      "source": [
        "## load tokenizer \n",
        "from tokenization import VLT5Tokenizer \n",
        "\n",
        "tokenizer = VLT5Tokenizer.from_pretrained(\"t5-base\") "
      ],
      "execution_count": 104,
      "outputs": []
    },
    {
      "cell_type": "code",
      "metadata": {
        "colab": {
          "base_uri": "https://localhost:8080/"
        },
        "id": "_X99FjP8vBKP",
        "outputId": "42b0c54b-69c4-438c-931c-147170f52590"
      },
      "source": [
        "questions = ['vqa: What is in the picture?', \n",
        "             'vqa: What is the color of the carrot?', \n",
        "             'vqa: How many vegetables are there?', \n",
        "             'vqa: What other vegetable is there aside from the carrot?', \n",
        "             'vqa: What is the knife cutting?' \n",
        "            ] \n",
        "\n",
        "for question in questions: \n",
        "  input_ids = tokenizer(question, return_tensors = 'pt', padding=True).input_ids \n",
        "  batch = {} \n",
        "  batch['input_ids'] = input_ids \n",
        "  batch['vis_feats'] = features \n",
        "  batch['boxes'] = normalized_boxes \n",
        "  result = trainer.model.test_step(batch) \n",
        "  print(\"Q: {}\".format(question)) \n",
        "  print(\"A: {}\".format(result['pred_ans'][0]))  "
      ],
      "execution_count": 109,
      "outputs": [
        {
          "output_type": "stream",
          "text": [
            "Q: vqa: What is in the picture?\n",
            "A: carrot\n",
            "Q: vqa: What is the color of the carrot?\n",
            "A: orange\n",
            "Q: vqa: How many vegetables are there?\n",
            "A: 1\n",
            "Q: vqa: What other vegetable is there aside from the carrot?\n",
            "A: onion\n",
            "Q: vqa: What is the knife cutting?\n",
            "A: carrot\n"
          ],
          "name": "stdout"
        }
      ]
    },
    {
      "cell_type": "code",
      "metadata": {
        "id": "Nw1JqHX6vJ9I"
      },
      "source": [
        ""
      ],
      "execution_count": null,
      "outputs": []
    }
  ]
}
